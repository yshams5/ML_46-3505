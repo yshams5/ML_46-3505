{
 "cells": [
  {
   "cell_type": "code",
   "execution_count": 5,
   "id": "dd537735",
   "metadata": {},
   "outputs": [],
   "source": [
    "import numpy as np\n",
    "import pandas as pd\n",
    "from sklearn.model_selection import KFold,train_test_split,StratifiedKFold\n",
    "from sklearn.linear_model import LogisticRegression\n",
    "from sklearn.metrics import accuracy_score, precision_score, recall_score, confusion_matrix\n",
    "from sklearn.utils import class_weight\n",
    "from imblearn.over_sampling import RandomOverSampler\n",
    "from sklearn.decomposition import PCA\n",
    "from sklearn.preprocessing import StandardScaler\n",
    "from sklearn.utils.class_weight import compute_class_weight\n",
    "import warnings\n",
    "from sklearn.exceptions import ConvergenceWarning\n",
    "from sklearn.preprocessing import PolynomialFeatures"
   ]
  },
  {
   "cell_type": "code",
   "execution_count": 7,
   "id": "8b2e9fd1",
   "metadata": {},
   "outputs": [],
   "source": [
    "# Read & Adjust Data from CSV file\n",
    "\n",
    "# We are trying here linear and 2nd, and 3rd order polynomial regression with oversampling our data to compromise for the inbalance.\n",
    "# We also applied pca  (a trail to improve performance) on scaled data (as it affects pca severily), to decrease its huge dimensions. As, it's very suspecious to have usless/correlated features.\n",
    "\n",
    "data = pd.read_csv(\"C:/Users/Mahmoud/Documents/GitHub/Machine-Learning-Classification-Project/Preprocessing/2017_Accidents_UK_Clean _Mahmoud.csv\",dtype=float)\n",
    "x = data.iloc[:, :-1] \n",
    "y = data.iloc[:, -1]  \n",
    "\n",
    "scaler = StandardScaler()\n",
    "x_scaled = scaler.fit_transform(x)\n",
    "\n",
    "priciple_component_analayzer = PCA(n_components=15)  \n",
    "x_pca = priciple_component_analayzer.fit_transform(x_scaled)\n",
    "\n",
    "oversampler = RandomOverSampler(random_state=10)\n",
    "x_resampled, y_resampled = oversampler.fit_resample(x_pca, y)\n",
    "x=pd.DataFrame(x_resampled)\n",
    "y=y_resampled\n",
    "\n",
    "x_training, x_testing, y_training, y_testing = train_test_split(x, y, test_size=0.15, random_state=10)\n",
    "x=x_training\n",
    "y=y_training"
   ]
  },
  {
   "cell_type": "code",
   "execution_count": 8,
   "id": "8cd4c59e",
   "metadata": {},
   "outputs": [
    {
     "name": "stdout",
     "output_type": "stream",
     "text": [
      "{'penalty': 'l1', 'C': 0.001, 'solver': 'liblinear', 'accuracy': 0.47939477914598305, 'precision': 0.46828655015585685, 'recall': 0.47942007993648617}\n",
      "{'penalty': 'l1', 'C': 0.001, 'solver': 'saga', 'accuracy': 0.47976562373480885, 'precision': 0.47031824838950503, 'recall': 0.4797871769347588}\n",
      "{'penalty': 'l1', 'C': 0.01, 'solver': 'liblinear', 'accuracy': 0.4797070654402941, 'precision': 0.4693070081194829, 'recall': 0.4797309528173274}\n",
      "{'penalty': 'l1', 'C': 0.01, 'solver': 'saga', 'accuracy': 0.48071810562968664, 'precision': 0.4719775535784977, 'recall': 0.48073874451745924}\n",
      "{'penalty': 'l1', 'C': 0.02, 'solver': 'liblinear', 'accuracy': 0.4798280776869716, 'precision': 0.46944187784226754, 'recall': 0.4798519010742358}\n",
      "{'penalty': 'l1', 'C': 0.02, 'solver': 'saga', 'accuracy': 0.4805190200760808, 'precision': 0.47181589379621214, 'recall': 0.48053957774129447}\n",
      "{'penalty': 'l1', 'C': 0.04, 'solver': 'liblinear', 'accuracy': 0.47985540336725396, 'precision': 0.4694857952203888, 'recall': 0.47987918851194333}\n",
      "{'penalty': 'l1', 'C': 0.04, 'solver': 'saga', 'accuracy': 0.48057757288482694, 'precision': 0.47187080925891134, 'recall': 0.4805981321535805}\n",
      "{'penalty': 'l1', 'C': 0.08, 'solver': 'liblinear', 'accuracy': 0.4799568977824425, 'precision': 0.4695726810693005, 'recall': 0.4799806781311794}\n",
      "{'penalty': 'l1', 'C': 0.08, 'solver': 'saga', 'accuracy': 0.4805463441563472, 'precision': 0.4718533506638459, 'recall': 0.48056688620725624}\n",
      "{'penalty': 'l1', 'C': 0.16, 'solver': 'liblinear', 'accuracy': 0.47998031980499734, 'precision': 0.46961068153717145, 'recall': 0.4800040854514315}\n",
      "{'penalty': 'l1', 'C': 0.16, 'solver': 'saga', 'accuracy': 0.4805151160373973, 'precision': 0.47183259395653687, 'recall': 0.48053564551674394}\n",
      "{'penalty': 'l1', 'C': 0.32, 'solver': 'liblinear', 'accuracy': 0.4800310666697311, 'precision': 0.4696710654585665, 'recall': 0.4800548252329322}\n",
      "{'penalty': 'l1', 'C': 0.32, 'solver': 'saga', 'accuracy': 0.4805151158088237, 'precision': 0.4718397606190578, 'recall': 0.48053563385980624}\n",
      "{'penalty': 'l1', 'C': 0.64, 'solver': 'liblinear', 'accuracy': 0.47998422308176847, 'precision': 0.46962630915428855, 'recall': 0.4800079790535398}\n",
      "{'penalty': 'l1', 'C': 0.64, 'solver': 'saga', 'accuracy': 0.4804721762595445, 'precision': 0.4717998266412103, 'recall': 0.48049269042404263}\n",
      "{'penalty': 'l1', 'C': 1.28, 'solver': 'liblinear', 'accuracy': 0.47999593413114167, 'precision': 0.469641069485799, 'recall': 0.48001968499904607}\n",
      "{'penalty': 'l1', 'C': 1.28, 'solver': 'saga', 'accuracy': 0.4804097178120991, 'precision': 0.47174866958896355, 'recall': 0.4804302170413933}\n",
      "{'penalty': 'l1', 'C': 2.56, 'solver': 'liblinear', 'accuracy': 0.480003741370405, 'precision': 0.46965033645301374, 'recall': 0.4800274904863036}\n",
      "{'penalty': 'l1', 'C': 2.56, 'solver': 'saga', 'accuracy': 0.48027309222976344, 'precision': 0.47161848365348896, 'recall': 0.48029357713251847}\n",
      "{'penalty': 'l1', 'C': 5.12, 'solver': 'liblinear', 'accuracy': 0.4799842231579598, 'precision': 0.469625410065362, 'recall': 0.48000797562546965}\n",
      "{'penalty': 'l1', 'C': 5.12, 'solver': 'saga', 'accuracy': 0.48027309222976344, 'precision': 0.47162118452600976, 'recall': 0.4802935771325184}\n",
      "{'penalty': 'l1', 'C': 10.24, 'solver': 'liblinear', 'accuracy': 0.4799842231579598, 'precision': 0.46962544066793493, 'recall': 0.48000797562546965}\n",
      "{'penalty': 'l1', 'C': 10.24, 'solver': 'saga', 'accuracy': 0.480280899545218, 'precision': 0.4716307821287752, 'recall': 0.480301382619776}\n"
     ]
    },
    {
     "name": "stderr",
     "output_type": "stream",
     "text": [
      "C:\\Users\\Mahmoud\\anaconda3\\lib\\site-packages\\sklearn\\linear_model\\_logistic.py:1181: UserWarning: Setting penalty=None will ignore the C and l1_ratio parameters\n",
      "  warnings.warn(\n",
      "C:\\Users\\Mahmoud\\anaconda3\\lib\\site-packages\\sklearn\\linear_model\\_logistic.py:1181: UserWarning: Setting penalty=None will ignore the C and l1_ratio parameters\n",
      "  warnings.warn(\n",
      "C:\\Users\\Mahmoud\\anaconda3\\lib\\site-packages\\sklearn\\linear_model\\_logistic.py:1181: UserWarning: Setting penalty=None will ignore the C and l1_ratio parameters\n",
      "  warnings.warn(\n",
      "C:\\Users\\Mahmoud\\anaconda3\\lib\\site-packages\\sklearn\\linear_model\\_logistic.py:1181: UserWarning: Setting penalty=None will ignore the C and l1_ratio parameters\n",
      "  warnings.warn(\n",
      "C:\\Users\\Mahmoud\\anaconda3\\lib\\site-packages\\sklearn\\linear_model\\_logistic.py:1181: UserWarning: Setting penalty=None will ignore the C and l1_ratio parameters\n",
      "  warnings.warn(\n"
     ]
    },
    {
     "name": "stdout",
     "output_type": "stream",
     "text": [
      "{'penalty': None, 'C': 0.001, 'solver': 'lbfgs', 'accuracy': 0.48034335669741246, 'precision': 0.47168689300303424, 'recall': 0.480363850058697}\n"
     ]
    },
    {
     "name": "stderr",
     "output_type": "stream",
     "text": [
      "C:\\Users\\Mahmoud\\anaconda3\\lib\\site-packages\\sklearn\\linear_model\\_logistic.py:1181: UserWarning: Setting penalty=None will ignore the C and l1_ratio parameters\n",
      "  warnings.warn(\n",
      "C:\\Users\\Mahmoud\\anaconda3\\lib\\site-packages\\sklearn\\linear_model\\_logistic.py:1181: UserWarning: Setting penalty=None will ignore the C and l1_ratio parameters\n",
      "  warnings.warn(\n",
      "C:\\Users\\Mahmoud\\anaconda3\\lib\\site-packages\\sklearn\\linear_model\\_logistic.py:1181: UserWarning: Setting penalty=None will ignore the C and l1_ratio parameters\n",
      "  warnings.warn(\n",
      "C:\\Users\\Mahmoud\\anaconda3\\lib\\site-packages\\sklearn\\linear_model\\_logistic.py:1181: UserWarning: Setting penalty=None will ignore the C and l1_ratio parameters\n",
      "  warnings.warn(\n",
      "C:\\Users\\Mahmoud\\anaconda3\\lib\\site-packages\\sklearn\\linear_model\\_logistic.py:1181: UserWarning: Setting penalty=None will ignore the C and l1_ratio parameters\n",
      "  warnings.warn(\n"
     ]
    },
    {
     "name": "stdout",
     "output_type": "stream",
     "text": [
      "{'penalty': None, 'C': 0.001, 'solver': 'newton-cg', 'accuracy': 0.4802848032029453, 'precision': 0.4716356968378765, 'recall': 0.4803052853634047}\n"
     ]
    },
    {
     "name": "stderr",
     "output_type": "stream",
     "text": [
      "C:\\Users\\Mahmoud\\anaconda3\\lib\\site-packages\\sklearn\\linear_model\\_logistic.py:1181: UserWarning: Setting penalty=None will ignore the C and l1_ratio parameters\n",
      "  warnings.warn(\n",
      "C:\\Users\\Mahmoud\\anaconda3\\lib\\site-packages\\sklearn\\linear_model\\_logistic.py:1181: UserWarning: Setting penalty=None will ignore the C and l1_ratio parameters\n",
      "  warnings.warn(\n",
      "C:\\Users\\Mahmoud\\anaconda3\\lib\\site-packages\\sklearn\\linear_model\\_logistic.py:1181: UserWarning: Setting penalty=None will ignore the C and l1_ratio parameters\n",
      "  warnings.warn(\n",
      "C:\\Users\\Mahmoud\\anaconda3\\lib\\site-packages\\sklearn\\linear_model\\_logistic.py:1181: UserWarning: Setting penalty=None will ignore the C and l1_ratio parameters\n",
      "  warnings.warn(\n",
      "C:\\Users\\Mahmoud\\anaconda3\\lib\\site-packages\\sklearn\\linear_model\\_logistic.py:1181: UserWarning: Setting penalty=None will ignore the C and l1_ratio parameters\n",
      "  warnings.warn(\n"
     ]
    },
    {
     "name": "stdout",
     "output_type": "stream",
     "text": [
      "{'penalty': None, 'C': 0.001, 'solver': 'newton-cholesky', 'accuracy': 0.4799959339787591, 'precision': 0.4696405408282721, 'recall': 0.48001968385635596}\n"
     ]
    },
    {
     "name": "stderr",
     "output_type": "stream",
     "text": [
      "C:\\Users\\Mahmoud\\anaconda3\\lib\\site-packages\\sklearn\\linear_model\\_logistic.py:1181: UserWarning: Setting penalty=None will ignore the C and l1_ratio parameters\n",
      "  warnings.warn(\n",
      "C:\\Users\\Mahmoud\\anaconda3\\lib\\site-packages\\sklearn\\linear_model\\_logistic.py:1181: UserWarning: Setting penalty=None will ignore the C and l1_ratio parameters\n",
      "  warnings.warn(\n",
      "C:\\Users\\Mahmoud\\anaconda3\\lib\\site-packages\\sklearn\\linear_model\\_logistic.py:1181: UserWarning: Setting penalty=None will ignore the C and l1_ratio parameters\n",
      "  warnings.warn(\n",
      "C:\\Users\\Mahmoud\\anaconda3\\lib\\site-packages\\sklearn\\linear_model\\_logistic.py:1181: UserWarning: Setting penalty=None will ignore the C and l1_ratio parameters\n",
      "  warnings.warn(\n",
      "C:\\Users\\Mahmoud\\anaconda3\\lib\\site-packages\\sklearn\\linear_model\\_logistic.py:1181: UserWarning: Setting penalty=None will ignore the C and l1_ratio parameters\n",
      "  warnings.warn(\n"
     ]
    },
    {
     "name": "stdout",
     "output_type": "stream",
     "text": [
      "{'penalty': None, 'C': 0.001, 'solver': 'sag', 'accuracy': 0.480284803126754, 'precision': 0.4716322151075147, 'recall': 0.48030528650609483}\n"
     ]
    },
    {
     "name": "stderr",
     "output_type": "stream",
     "text": [
      "C:\\Users\\Mahmoud\\anaconda3\\lib\\site-packages\\sklearn\\linear_model\\_logistic.py:1181: UserWarning: Setting penalty=None will ignore the C and l1_ratio parameters\n",
      "  warnings.warn(\n",
      "C:\\Users\\Mahmoud\\anaconda3\\lib\\site-packages\\sklearn\\linear_model\\_logistic.py:1181: UserWarning: Setting penalty=None will ignore the C and l1_ratio parameters\n",
      "  warnings.warn(\n",
      "C:\\Users\\Mahmoud\\anaconda3\\lib\\site-packages\\sklearn\\linear_model\\_logistic.py:1181: UserWarning: Setting penalty=None will ignore the C and l1_ratio parameters\n",
      "  warnings.warn(\n",
      "C:\\Users\\Mahmoud\\anaconda3\\lib\\site-packages\\sklearn\\linear_model\\_logistic.py:1181: UserWarning: Setting penalty=None will ignore the C and l1_ratio parameters\n",
      "  warnings.warn(\n",
      "C:\\Users\\Mahmoud\\anaconda3\\lib\\site-packages\\sklearn\\linear_model\\_logistic.py:1181: UserWarning: Setting penalty=None will ignore the C and l1_ratio parameters\n",
      "  warnings.warn(\n"
     ]
    },
    {
     "name": "stdout",
     "output_type": "stream",
     "text": [
      "{'penalty': None, 'C': 0.001, 'solver': 'saga', 'accuracy': 0.4803082238540581, 'precision': 0.4716529785489773, 'recall': 0.48032870890923995}\n"
     ]
    },
    {
     "name": "stderr",
     "output_type": "stream",
     "text": [
      "C:\\Users\\Mahmoud\\anaconda3\\lib\\site-packages\\sklearn\\linear_model\\_logistic.py:1181: UserWarning: Setting penalty=None will ignore the C and l1_ratio parameters\n",
      "  warnings.warn(\n",
      "C:\\Users\\Mahmoud\\anaconda3\\lib\\site-packages\\sklearn\\linear_model\\_logistic.py:1181: UserWarning: Setting penalty=None will ignore the C and l1_ratio parameters\n",
      "  warnings.warn(\n",
      "C:\\Users\\Mahmoud\\anaconda3\\lib\\site-packages\\sklearn\\linear_model\\_logistic.py:1181: UserWarning: Setting penalty=None will ignore the C and l1_ratio parameters\n",
      "  warnings.warn(\n",
      "C:\\Users\\Mahmoud\\anaconda3\\lib\\site-packages\\sklearn\\linear_model\\_logistic.py:1181: UserWarning: Setting penalty=None will ignore the C and l1_ratio parameters\n",
      "  warnings.warn(\n",
      "C:\\Users\\Mahmoud\\anaconda3\\lib\\site-packages\\sklearn\\linear_model\\_logistic.py:1181: UserWarning: Setting penalty=None will ignore the C and l1_ratio parameters\n",
      "  warnings.warn(\n"
     ]
    },
    {
     "name": "stdout",
     "output_type": "stream",
     "text": [
      "{'penalty': None, 'C': 0.01, 'solver': 'lbfgs', 'accuracy': 0.48034335669741246, 'precision': 0.47168689300303424, 'recall': 0.480363850058697}\n"
     ]
    },
    {
     "name": "stderr",
     "output_type": "stream",
     "text": [
      "C:\\Users\\Mahmoud\\anaconda3\\lib\\site-packages\\sklearn\\linear_model\\_logistic.py:1181: UserWarning: Setting penalty=None will ignore the C and l1_ratio parameters\n",
      "  warnings.warn(\n",
      "C:\\Users\\Mahmoud\\anaconda3\\lib\\site-packages\\sklearn\\linear_model\\_logistic.py:1181: UserWarning: Setting penalty=None will ignore the C and l1_ratio parameters\n",
      "  warnings.warn(\n",
      "C:\\Users\\Mahmoud\\anaconda3\\lib\\site-packages\\sklearn\\linear_model\\_logistic.py:1181: UserWarning: Setting penalty=None will ignore the C and l1_ratio parameters\n",
      "  warnings.warn(\n",
      "C:\\Users\\Mahmoud\\anaconda3\\lib\\site-packages\\sklearn\\linear_model\\_logistic.py:1181: UserWarning: Setting penalty=None will ignore the C and l1_ratio parameters\n",
      "  warnings.warn(\n",
      "C:\\Users\\Mahmoud\\anaconda3\\lib\\site-packages\\sklearn\\linear_model\\_logistic.py:1181: UserWarning: Setting penalty=None will ignore the C and l1_ratio parameters\n",
      "  warnings.warn(\n"
     ]
    },
    {
     "name": "stdout",
     "output_type": "stream",
     "text": [
      "{'penalty': None, 'C': 0.01, 'solver': 'newton-cg', 'accuracy': 0.4802848032029453, 'precision': 0.4716356968378765, 'recall': 0.4803052853634047}\n"
     ]
    },
    {
     "name": "stderr",
     "output_type": "stream",
     "text": [
      "C:\\Users\\Mahmoud\\anaconda3\\lib\\site-packages\\sklearn\\linear_model\\_logistic.py:1181: UserWarning: Setting penalty=None will ignore the C and l1_ratio parameters\n",
      "  warnings.warn(\n",
      "C:\\Users\\Mahmoud\\anaconda3\\lib\\site-packages\\sklearn\\linear_model\\_logistic.py:1181: UserWarning: Setting penalty=None will ignore the C and l1_ratio parameters\n",
      "  warnings.warn(\n",
      "C:\\Users\\Mahmoud\\anaconda3\\lib\\site-packages\\sklearn\\linear_model\\_logistic.py:1181: UserWarning: Setting penalty=None will ignore the C and l1_ratio parameters\n",
      "  warnings.warn(\n",
      "C:\\Users\\Mahmoud\\anaconda3\\lib\\site-packages\\sklearn\\linear_model\\_logistic.py:1181: UserWarning: Setting penalty=None will ignore the C and l1_ratio parameters\n",
      "  warnings.warn(\n",
      "C:\\Users\\Mahmoud\\anaconda3\\lib\\site-packages\\sklearn\\linear_model\\_logistic.py:1181: UserWarning: Setting penalty=None will ignore the C and l1_ratio parameters\n",
      "  warnings.warn(\n"
     ]
    },
    {
     "name": "stdout",
     "output_type": "stream",
     "text": [
      "{'penalty': None, 'C': 0.01, 'solver': 'newton-cholesky', 'accuracy': 0.4799959339787591, 'precision': 0.4696405408282721, 'recall': 0.48001968385635596}\n"
     ]
    },
    {
     "name": "stderr",
     "output_type": "stream",
     "text": [
      "C:\\Users\\Mahmoud\\anaconda3\\lib\\site-packages\\sklearn\\linear_model\\_logistic.py:1181: UserWarning: Setting penalty=None will ignore the C and l1_ratio parameters\n",
      "  warnings.warn(\n",
      "C:\\Users\\Mahmoud\\anaconda3\\lib\\site-packages\\sklearn\\linear_model\\_logistic.py:1181: UserWarning: Setting penalty=None will ignore the C and l1_ratio parameters\n",
      "  warnings.warn(\n",
      "C:\\Users\\Mahmoud\\anaconda3\\lib\\site-packages\\sklearn\\linear_model\\_logistic.py:1181: UserWarning: Setting penalty=None will ignore the C and l1_ratio parameters\n",
      "  warnings.warn(\n",
      "C:\\Users\\Mahmoud\\anaconda3\\lib\\site-packages\\sklearn\\linear_model\\_logistic.py:1181: UserWarning: Setting penalty=None will ignore the C and l1_ratio parameters\n",
      "  warnings.warn(\n",
      "C:\\Users\\Mahmoud\\anaconda3\\lib\\site-packages\\sklearn\\linear_model\\_logistic.py:1181: UserWarning: Setting penalty=None will ignore the C and l1_ratio parameters\n",
      "  warnings.warn(\n"
     ]
    },
    {
     "name": "stdout",
     "output_type": "stream",
     "text": [
      "{'penalty': None, 'C': 0.01, 'solver': 'sag', 'accuracy': 0.4802769961160644, 'precision': 0.4716264540188117, 'recall': 0.4802974798761472}\n"
     ]
    },
    {
     "name": "stderr",
     "output_type": "stream",
     "text": [
      "C:\\Users\\Mahmoud\\anaconda3\\lib\\site-packages\\sklearn\\linear_model\\_logistic.py:1181: UserWarning: Setting penalty=None will ignore the C and l1_ratio parameters\n",
      "  warnings.warn(\n",
      "C:\\Users\\Mahmoud\\anaconda3\\lib\\site-packages\\sklearn\\linear_model\\_logistic.py:1181: UserWarning: Setting penalty=None will ignore the C and l1_ratio parameters\n",
      "  warnings.warn(\n",
      "C:\\Users\\Mahmoud\\anaconda3\\lib\\site-packages\\sklearn\\linear_model\\_logistic.py:1181: UserWarning: Setting penalty=None will ignore the C and l1_ratio parameters\n",
      "  warnings.warn(\n",
      "C:\\Users\\Mahmoud\\anaconda3\\lib\\site-packages\\sklearn\\linear_model\\_logistic.py:1181: UserWarning: Setting penalty=None will ignore the C and l1_ratio parameters\n",
      "  warnings.warn(\n",
      "C:\\Users\\Mahmoud\\anaconda3\\lib\\site-packages\\sklearn\\linear_model\\_logistic.py:1181: UserWarning: Setting penalty=None will ignore the C and l1_ratio parameters\n",
      "  warnings.warn(\n"
     ]
    },
    {
     "name": "stdout",
     "output_type": "stream",
     "text": [
      "{'penalty': None, 'C': 0.01, 'solver': 'saga', 'accuracy': 0.48024186289175386, 'precision': 0.47159207744577075, 'recall': 0.48026233872669016}\n"
     ]
    },
    {
     "name": "stderr",
     "output_type": "stream",
     "text": [
      "C:\\Users\\Mahmoud\\anaconda3\\lib\\site-packages\\sklearn\\linear_model\\_logistic.py:1181: UserWarning: Setting penalty=None will ignore the C and l1_ratio parameters\n",
      "  warnings.warn(\n",
      "C:\\Users\\Mahmoud\\anaconda3\\lib\\site-packages\\sklearn\\linear_model\\_logistic.py:1181: UserWarning: Setting penalty=None will ignore the C and l1_ratio parameters\n",
      "  warnings.warn(\n",
      "C:\\Users\\Mahmoud\\anaconda3\\lib\\site-packages\\sklearn\\linear_model\\_logistic.py:1181: UserWarning: Setting penalty=None will ignore the C and l1_ratio parameters\n",
      "  warnings.warn(\n",
      "C:\\Users\\Mahmoud\\anaconda3\\lib\\site-packages\\sklearn\\linear_model\\_logistic.py:1181: UserWarning: Setting penalty=None will ignore the C and l1_ratio parameters\n",
      "  warnings.warn(\n",
      "C:\\Users\\Mahmoud\\anaconda3\\lib\\site-packages\\sklearn\\linear_model\\_logistic.py:1181: UserWarning: Setting penalty=None will ignore the C and l1_ratio parameters\n",
      "  warnings.warn(\n"
     ]
    },
    {
     "name": "stdout",
     "output_type": "stream",
     "text": [
      "{'penalty': None, 'C': 0.02, 'solver': 'lbfgs', 'accuracy': 0.48034335669741246, 'precision': 0.47168689300303424, 'recall': 0.480363850058697}\n"
     ]
    },
    {
     "name": "stderr",
     "output_type": "stream",
     "text": [
      "C:\\Users\\Mahmoud\\anaconda3\\lib\\site-packages\\sklearn\\linear_model\\_logistic.py:1181: UserWarning: Setting penalty=None will ignore the C and l1_ratio parameters\n",
      "  warnings.warn(\n",
      "C:\\Users\\Mahmoud\\anaconda3\\lib\\site-packages\\sklearn\\linear_model\\_logistic.py:1181: UserWarning: Setting penalty=None will ignore the C and l1_ratio parameters\n",
      "  warnings.warn(\n",
      "C:\\Users\\Mahmoud\\anaconda3\\lib\\site-packages\\sklearn\\linear_model\\_logistic.py:1181: UserWarning: Setting penalty=None will ignore the C and l1_ratio parameters\n",
      "  warnings.warn(\n",
      "C:\\Users\\Mahmoud\\anaconda3\\lib\\site-packages\\sklearn\\linear_model\\_logistic.py:1181: UserWarning: Setting penalty=None will ignore the C and l1_ratio parameters\n",
      "  warnings.warn(\n",
      "C:\\Users\\Mahmoud\\anaconda3\\lib\\site-packages\\sklearn\\linear_model\\_logistic.py:1181: UserWarning: Setting penalty=None will ignore the C and l1_ratio parameters\n",
      "  warnings.warn(\n"
     ]
    },
    {
     "name": "stdout",
     "output_type": "stream",
     "text": [
      "{'penalty': None, 'C': 0.02, 'solver': 'newton-cg', 'accuracy': 0.4802848032029453, 'precision': 0.4716356968378765, 'recall': 0.4803052853634047}\n"
     ]
    },
    {
     "name": "stderr",
     "output_type": "stream",
     "text": [
      "C:\\Users\\Mahmoud\\anaconda3\\lib\\site-packages\\sklearn\\linear_model\\_logistic.py:1181: UserWarning: Setting penalty=None will ignore the C and l1_ratio parameters\n",
      "  warnings.warn(\n",
      "C:\\Users\\Mahmoud\\anaconda3\\lib\\site-packages\\sklearn\\linear_model\\_logistic.py:1181: UserWarning: Setting penalty=None will ignore the C and l1_ratio parameters\n",
      "  warnings.warn(\n",
      "C:\\Users\\Mahmoud\\anaconda3\\lib\\site-packages\\sklearn\\linear_model\\_logistic.py:1181: UserWarning: Setting penalty=None will ignore the C and l1_ratio parameters\n",
      "  warnings.warn(\n",
      "C:\\Users\\Mahmoud\\anaconda3\\lib\\site-packages\\sklearn\\linear_model\\_logistic.py:1181: UserWarning: Setting penalty=None will ignore the C and l1_ratio parameters\n",
      "  warnings.warn(\n",
      "C:\\Users\\Mahmoud\\anaconda3\\lib\\site-packages\\sklearn\\linear_model\\_logistic.py:1181: UserWarning: Setting penalty=None will ignore the C and l1_ratio parameters\n",
      "  warnings.warn(\n"
     ]
    },
    {
     "name": "stdout",
     "output_type": "stream",
     "text": [
      "{'penalty': None, 'C': 0.02, 'solver': 'newton-cholesky', 'accuracy': 0.4799959339787591, 'precision': 0.4696405408282721, 'recall': 0.48001968385635596}\n"
     ]
    },
    {
     "name": "stderr",
     "output_type": "stream",
     "text": [
      "C:\\Users\\Mahmoud\\anaconda3\\lib\\site-packages\\sklearn\\linear_model\\_logistic.py:1181: UserWarning: Setting penalty=None will ignore the C and l1_ratio parameters\n",
      "  warnings.warn(\n",
      "C:\\Users\\Mahmoud\\anaconda3\\lib\\site-packages\\sklearn\\linear_model\\_logistic.py:1181: UserWarning: Setting penalty=None will ignore the C and l1_ratio parameters\n",
      "  warnings.warn(\n",
      "C:\\Users\\Mahmoud\\anaconda3\\lib\\site-packages\\sklearn\\linear_model\\_logistic.py:1181: UserWarning: Setting penalty=None will ignore the C and l1_ratio parameters\n",
      "  warnings.warn(\n",
      "C:\\Users\\Mahmoud\\anaconda3\\lib\\site-packages\\sklearn\\linear_model\\_logistic.py:1181: UserWarning: Setting penalty=None will ignore the C and l1_ratio parameters\n",
      "  warnings.warn(\n",
      "C:\\Users\\Mahmoud\\anaconda3\\lib\\site-packages\\sklearn\\linear_model\\_logistic.py:1181: UserWarning: Setting penalty=None will ignore the C and l1_ratio parameters\n",
      "  warnings.warn(\n"
     ]
    },
    {
     "name": "stdout",
     "output_type": "stream",
     "text": [
      "{'penalty': None, 'C': 0.02, 'solver': 'sag', 'accuracy': 0.48028089946902675, 'precision': 0.4716309367719645, 'recall': 0.480301382619776}\n"
     ]
    },
    {
     "name": "stderr",
     "output_type": "stream",
     "text": [
      "C:\\Users\\Mahmoud\\anaconda3\\lib\\site-packages\\sklearn\\linear_model\\_logistic.py:1181: UserWarning: Setting penalty=None will ignore the C and l1_ratio parameters\n",
      "  warnings.warn(\n",
      "C:\\Users\\Mahmoud\\anaconda3\\lib\\site-packages\\sklearn\\linear_model\\_logistic.py:1181: UserWarning: Setting penalty=None will ignore the C and l1_ratio parameters\n",
      "  warnings.warn(\n",
      "C:\\Users\\Mahmoud\\anaconda3\\lib\\site-packages\\sklearn\\linear_model\\_logistic.py:1181: UserWarning: Setting penalty=None will ignore the C and l1_ratio parameters\n",
      "  warnings.warn(\n",
      "C:\\Users\\Mahmoud\\anaconda3\\lib\\site-packages\\sklearn\\linear_model\\_logistic.py:1181: UserWarning: Setting penalty=None will ignore the C and l1_ratio parameters\n",
      "  warnings.warn(\n",
      "C:\\Users\\Mahmoud\\anaconda3\\lib\\site-packages\\sklearn\\linear_model\\_logistic.py:1181: UserWarning: Setting penalty=None will ignore the C and l1_ratio parameters\n",
      "  warnings.warn(\n"
     ]
    },
    {
     "name": "stdout",
     "output_type": "stream",
     "text": [
      "{'penalty': None, 'C': 0.02, 'solver': 'saga', 'accuracy': 0.4803394533444501, 'precision': 0.47168656076314897, 'recall': 0.48035994297252477}\n"
     ]
    },
    {
     "name": "stderr",
     "output_type": "stream",
     "text": [
      "C:\\Users\\Mahmoud\\anaconda3\\lib\\site-packages\\sklearn\\linear_model\\_logistic.py:1181: UserWarning: Setting penalty=None will ignore the C and l1_ratio parameters\n",
      "  warnings.warn(\n",
      "C:\\Users\\Mahmoud\\anaconda3\\lib\\site-packages\\sklearn\\linear_model\\_logistic.py:1181: UserWarning: Setting penalty=None will ignore the C and l1_ratio parameters\n",
      "  warnings.warn(\n",
      "C:\\Users\\Mahmoud\\anaconda3\\lib\\site-packages\\sklearn\\linear_model\\_logistic.py:1181: UserWarning: Setting penalty=None will ignore the C and l1_ratio parameters\n",
      "  warnings.warn(\n",
      "C:\\Users\\Mahmoud\\anaconda3\\lib\\site-packages\\sklearn\\linear_model\\_logistic.py:1181: UserWarning: Setting penalty=None will ignore the C and l1_ratio parameters\n",
      "  warnings.warn(\n",
      "C:\\Users\\Mahmoud\\anaconda3\\lib\\site-packages\\sklearn\\linear_model\\_logistic.py:1181: UserWarning: Setting penalty=None will ignore the C and l1_ratio parameters\n",
      "  warnings.warn(\n"
     ]
    },
    {
     "name": "stdout",
     "output_type": "stream",
     "text": [
      "{'penalty': None, 'C': 0.04, 'solver': 'lbfgs', 'accuracy': 0.48034335669741246, 'precision': 0.47168689300303424, 'recall': 0.480363850058697}\n"
     ]
    },
    {
     "name": "stderr",
     "output_type": "stream",
     "text": [
      "C:\\Users\\Mahmoud\\anaconda3\\lib\\site-packages\\sklearn\\linear_model\\_logistic.py:1181: UserWarning: Setting penalty=None will ignore the C and l1_ratio parameters\n",
      "  warnings.warn(\n",
      "C:\\Users\\Mahmoud\\anaconda3\\lib\\site-packages\\sklearn\\linear_model\\_logistic.py:1181: UserWarning: Setting penalty=None will ignore the C and l1_ratio parameters\n",
      "  warnings.warn(\n",
      "C:\\Users\\Mahmoud\\anaconda3\\lib\\site-packages\\sklearn\\linear_model\\_logistic.py:1181: UserWarning: Setting penalty=None will ignore the C and l1_ratio parameters\n",
      "  warnings.warn(\n",
      "C:\\Users\\Mahmoud\\anaconda3\\lib\\site-packages\\sklearn\\linear_model\\_logistic.py:1181: UserWarning: Setting penalty=None will ignore the C and l1_ratio parameters\n",
      "  warnings.warn(\n",
      "C:\\Users\\Mahmoud\\anaconda3\\lib\\site-packages\\sklearn\\linear_model\\_logistic.py:1181: UserWarning: Setting penalty=None will ignore the C and l1_ratio parameters\n",
      "  warnings.warn(\n"
     ]
    },
    {
     "name": "stdout",
     "output_type": "stream",
     "text": [
      "{'penalty': None, 'C': 0.04, 'solver': 'newton-cg', 'accuracy': 0.4802848032029453, 'precision': 0.4716356968378765, 'recall': 0.4803052853634047}\n"
     ]
    },
    {
     "name": "stderr",
     "output_type": "stream",
     "text": [
      "C:\\Users\\Mahmoud\\anaconda3\\lib\\site-packages\\sklearn\\linear_model\\_logistic.py:1181: UserWarning: Setting penalty=None will ignore the C and l1_ratio parameters\n",
      "  warnings.warn(\n",
      "C:\\Users\\Mahmoud\\anaconda3\\lib\\site-packages\\sklearn\\linear_model\\_logistic.py:1181: UserWarning: Setting penalty=None will ignore the C and l1_ratio parameters\n",
      "  warnings.warn(\n",
      "C:\\Users\\Mahmoud\\anaconda3\\lib\\site-packages\\sklearn\\linear_model\\_logistic.py:1181: UserWarning: Setting penalty=None will ignore the C and l1_ratio parameters\n",
      "  warnings.warn(\n",
      "C:\\Users\\Mahmoud\\anaconda3\\lib\\site-packages\\sklearn\\linear_model\\_logistic.py:1181: UserWarning: Setting penalty=None will ignore the C and l1_ratio parameters\n",
      "  warnings.warn(\n",
      "C:\\Users\\Mahmoud\\anaconda3\\lib\\site-packages\\sklearn\\linear_model\\_logistic.py:1181: UserWarning: Setting penalty=None will ignore the C and l1_ratio parameters\n",
      "  warnings.warn(\n"
     ]
    },
    {
     "name": "stdout",
     "output_type": "stream",
     "text": [
      "{'penalty': None, 'C': 0.04, 'solver': 'newton-cholesky', 'accuracy': 0.4799959339787591, 'precision': 0.4696405408282721, 'recall': 0.48001968385635596}\n"
     ]
    },
    {
     "name": "stderr",
     "output_type": "stream",
     "text": [
      "C:\\Users\\Mahmoud\\anaconda3\\lib\\site-packages\\sklearn\\linear_model\\_logistic.py:1181: UserWarning: Setting penalty=None will ignore the C and l1_ratio parameters\n",
      "  warnings.warn(\n",
      "C:\\Users\\Mahmoud\\anaconda3\\lib\\site-packages\\sklearn\\linear_model\\_logistic.py:1181: UserWarning: Setting penalty=None will ignore the C and l1_ratio parameters\n",
      "  warnings.warn(\n",
      "C:\\Users\\Mahmoud\\anaconda3\\lib\\site-packages\\sklearn\\linear_model\\_logistic.py:1181: UserWarning: Setting penalty=None will ignore the C and l1_ratio parameters\n",
      "  warnings.warn(\n",
      "C:\\Users\\Mahmoud\\anaconda3\\lib\\site-packages\\sklearn\\linear_model\\_logistic.py:1181: UserWarning: Setting penalty=None will ignore the C and l1_ratio parameters\n",
      "  warnings.warn(\n",
      "C:\\Users\\Mahmoud\\anaconda3\\lib\\site-packages\\sklearn\\linear_model\\_logistic.py:1181: UserWarning: Setting penalty=None will ignore the C and l1_ratio parameters\n",
      "  warnings.warn(\n"
     ]
    },
    {
     "name": "stdout",
     "output_type": "stream",
     "text": [
      "{'penalty': None, 'C': 0.04, 'solver': 'sag', 'accuracy': 0.4803394541063624, 'precision': 0.4716840527450946, 'recall': 0.4803599459444559}\n"
     ]
    },
    {
     "name": "stderr",
     "output_type": "stream",
     "text": [
      "C:\\Users\\Mahmoud\\anaconda3\\lib\\site-packages\\sklearn\\linear_model\\_logistic.py:1181: UserWarning: Setting penalty=None will ignore the C and l1_ratio parameters\n",
      "  warnings.warn(\n",
      "C:\\Users\\Mahmoud\\anaconda3\\lib\\site-packages\\sklearn\\linear_model\\_logistic.py:1181: UserWarning: Setting penalty=None will ignore the C and l1_ratio parameters\n",
      "  warnings.warn(\n",
      "C:\\Users\\Mahmoud\\anaconda3\\lib\\site-packages\\sklearn\\linear_model\\_logistic.py:1181: UserWarning: Setting penalty=None will ignore the C and l1_ratio parameters\n",
      "  warnings.warn(\n",
      "C:\\Users\\Mahmoud\\anaconda3\\lib\\site-packages\\sklearn\\linear_model\\_logistic.py:1181: UserWarning: Setting penalty=None will ignore the C and l1_ratio parameters\n",
      "  warnings.warn(\n",
      "C:\\Users\\Mahmoud\\anaconda3\\lib\\site-packages\\sklearn\\linear_model\\_logistic.py:1181: UserWarning: Setting penalty=None will ignore the C and l1_ratio parameters\n",
      "  warnings.warn(\n"
     ]
    },
    {
     "name": "stdout",
     "output_type": "stream",
     "text": [
      "{'penalty': None, 'C': 0.04, 'solver': 'saga', 'accuracy': 0.48028870571780413, 'precision': 0.4716358381377891, 'recall': 0.4803091908485527}\n"
     ]
    },
    {
     "name": "stderr",
     "output_type": "stream",
     "text": [
      "C:\\Users\\Mahmoud\\anaconda3\\lib\\site-packages\\sklearn\\linear_model\\_logistic.py:1181: UserWarning: Setting penalty=None will ignore the C and l1_ratio parameters\n",
      "  warnings.warn(\n",
      "C:\\Users\\Mahmoud\\anaconda3\\lib\\site-packages\\sklearn\\linear_model\\_logistic.py:1181: UserWarning: Setting penalty=None will ignore the C and l1_ratio parameters\n",
      "  warnings.warn(\n",
      "C:\\Users\\Mahmoud\\anaconda3\\lib\\site-packages\\sklearn\\linear_model\\_logistic.py:1181: UserWarning: Setting penalty=None will ignore the C and l1_ratio parameters\n",
      "  warnings.warn(\n",
      "C:\\Users\\Mahmoud\\anaconda3\\lib\\site-packages\\sklearn\\linear_model\\_logistic.py:1181: UserWarning: Setting penalty=None will ignore the C and l1_ratio parameters\n",
      "  warnings.warn(\n",
      "C:\\Users\\Mahmoud\\anaconda3\\lib\\site-packages\\sklearn\\linear_model\\_logistic.py:1181: UserWarning: Setting penalty=None will ignore the C and l1_ratio parameters\n",
      "  warnings.warn(\n"
     ]
    },
    {
     "name": "stdout",
     "output_type": "stream",
     "text": [
      "{'penalty': None, 'C': 0.08, 'solver': 'lbfgs', 'accuracy': 0.48034335669741246, 'precision': 0.47168689300303424, 'recall': 0.480363850058697}\n"
     ]
    },
    {
     "name": "stderr",
     "output_type": "stream",
     "text": [
      "C:\\Users\\Mahmoud\\anaconda3\\lib\\site-packages\\sklearn\\linear_model\\_logistic.py:1181: UserWarning: Setting penalty=None will ignore the C and l1_ratio parameters\n",
      "  warnings.warn(\n",
      "C:\\Users\\Mahmoud\\anaconda3\\lib\\site-packages\\sklearn\\linear_model\\_logistic.py:1181: UserWarning: Setting penalty=None will ignore the C and l1_ratio parameters\n",
      "  warnings.warn(\n",
      "C:\\Users\\Mahmoud\\anaconda3\\lib\\site-packages\\sklearn\\linear_model\\_logistic.py:1181: UserWarning: Setting penalty=None will ignore the C and l1_ratio parameters\n",
      "  warnings.warn(\n",
      "C:\\Users\\Mahmoud\\anaconda3\\lib\\site-packages\\sklearn\\linear_model\\_logistic.py:1181: UserWarning: Setting penalty=None will ignore the C and l1_ratio parameters\n",
      "  warnings.warn(\n",
      "C:\\Users\\Mahmoud\\anaconda3\\lib\\site-packages\\sklearn\\linear_model\\_logistic.py:1181: UserWarning: Setting penalty=None will ignore the C and l1_ratio parameters\n",
      "  warnings.warn(\n"
     ]
    },
    {
     "name": "stdout",
     "output_type": "stream",
     "text": [
      "{'penalty': None, 'C': 0.08, 'solver': 'newton-cg', 'accuracy': 0.4802848032029453, 'precision': 0.4716356968378765, 'recall': 0.4803052853634047}\n"
     ]
    },
    {
     "name": "stderr",
     "output_type": "stream",
     "text": [
      "C:\\Users\\Mahmoud\\anaconda3\\lib\\site-packages\\sklearn\\linear_model\\_logistic.py:1181: UserWarning: Setting penalty=None will ignore the C and l1_ratio parameters\n",
      "  warnings.warn(\n",
      "C:\\Users\\Mahmoud\\anaconda3\\lib\\site-packages\\sklearn\\linear_model\\_logistic.py:1181: UserWarning: Setting penalty=None will ignore the C and l1_ratio parameters\n",
      "  warnings.warn(\n",
      "C:\\Users\\Mahmoud\\anaconda3\\lib\\site-packages\\sklearn\\linear_model\\_logistic.py:1181: UserWarning: Setting penalty=None will ignore the C and l1_ratio parameters\n",
      "  warnings.warn(\n",
      "C:\\Users\\Mahmoud\\anaconda3\\lib\\site-packages\\sklearn\\linear_model\\_logistic.py:1181: UserWarning: Setting penalty=None will ignore the C and l1_ratio parameters\n",
      "  warnings.warn(\n",
      "C:\\Users\\Mahmoud\\anaconda3\\lib\\site-packages\\sklearn\\linear_model\\_logistic.py:1181: UserWarning: Setting penalty=None will ignore the C and l1_ratio parameters\n",
      "  warnings.warn(\n"
     ]
    },
    {
     "name": "stdout",
     "output_type": "stream",
     "text": [
      "{'penalty': None, 'C': 0.08, 'solver': 'newton-cholesky', 'accuracy': 0.4799959339787591, 'precision': 0.4696405408282721, 'recall': 0.48001968385635596}\n"
     ]
    },
    {
     "name": "stderr",
     "output_type": "stream",
     "text": [
      "C:\\Users\\Mahmoud\\anaconda3\\lib\\site-packages\\sklearn\\linear_model\\_logistic.py:1181: UserWarning: Setting penalty=None will ignore the C and l1_ratio parameters\n",
      "  warnings.warn(\n",
      "C:\\Users\\Mahmoud\\anaconda3\\lib\\site-packages\\sklearn\\linear_model\\_logistic.py:1181: UserWarning: Setting penalty=None will ignore the C and l1_ratio parameters\n",
      "  warnings.warn(\n",
      "C:\\Users\\Mahmoud\\anaconda3\\lib\\site-packages\\sklearn\\linear_model\\_logistic.py:1181: UserWarning: Setting penalty=None will ignore the C and l1_ratio parameters\n",
      "  warnings.warn(\n",
      "C:\\Users\\Mahmoud\\anaconda3\\lib\\site-packages\\sklearn\\linear_model\\_logistic.py:1181: UserWarning: Setting penalty=None will ignore the C and l1_ratio parameters\n",
      "  warnings.warn(\n",
      "C:\\Users\\Mahmoud\\anaconda3\\lib\\site-packages\\sklearn\\linear_model\\_logistic.py:1181: UserWarning: Setting penalty=None will ignore the C and l1_ratio parameters\n",
      "  warnings.warn(\n"
     ]
    },
    {
     "name": "stdout",
     "output_type": "stream",
     "text": [
      "{'penalty': None, 'C': 0.08, 'solver': 'sag', 'accuracy': 0.4802887068606726, 'precision': 0.47163930526231057, 'recall': 0.48030918924972354}\n"
     ]
    },
    {
     "name": "stderr",
     "output_type": "stream",
     "text": [
      "C:\\Users\\Mahmoud\\anaconda3\\lib\\site-packages\\sklearn\\linear_model\\_logistic.py:1181: UserWarning: Setting penalty=None will ignore the C and l1_ratio parameters\n",
      "  warnings.warn(\n",
      "C:\\Users\\Mahmoud\\anaconda3\\lib\\site-packages\\sklearn\\linear_model\\_logistic.py:1181: UserWarning: Setting penalty=None will ignore the C and l1_ratio parameters\n",
      "  warnings.warn(\n",
      "C:\\Users\\Mahmoud\\anaconda3\\lib\\site-packages\\sklearn\\linear_model\\_logistic.py:1181: UserWarning: Setting penalty=None will ignore the C and l1_ratio parameters\n",
      "  warnings.warn(\n",
      "C:\\Users\\Mahmoud\\anaconda3\\lib\\site-packages\\sklearn\\linear_model\\_logistic.py:1181: UserWarning: Setting penalty=None will ignore the C and l1_ratio parameters\n",
      "  warnings.warn(\n",
      "C:\\Users\\Mahmoud\\anaconda3\\lib\\site-packages\\sklearn\\linear_model\\_logistic.py:1181: UserWarning: Setting penalty=None will ignore the C and l1_ratio parameters\n",
      "  warnings.warn(\n"
     ]
    },
    {
     "name": "stdout",
     "output_type": "stream",
     "text": [
      "{'penalty': None, 'C': 0.08, 'solver': 'saga', 'accuracy': 0.4802887067844813, 'precision': 0.4716378300861986, 'recall': 0.4803091881070335}\n"
     ]
    },
    {
     "name": "stderr",
     "output_type": "stream",
     "text": [
      "C:\\Users\\Mahmoud\\anaconda3\\lib\\site-packages\\sklearn\\linear_model\\_logistic.py:1181: UserWarning: Setting penalty=None will ignore the C and l1_ratio parameters\n",
      "  warnings.warn(\n",
      "C:\\Users\\Mahmoud\\anaconda3\\lib\\site-packages\\sklearn\\linear_model\\_logistic.py:1181: UserWarning: Setting penalty=None will ignore the C and l1_ratio parameters\n",
      "  warnings.warn(\n",
      "C:\\Users\\Mahmoud\\anaconda3\\lib\\site-packages\\sklearn\\linear_model\\_logistic.py:1181: UserWarning: Setting penalty=None will ignore the C and l1_ratio parameters\n",
      "  warnings.warn(\n",
      "C:\\Users\\Mahmoud\\anaconda3\\lib\\site-packages\\sklearn\\linear_model\\_logistic.py:1181: UserWarning: Setting penalty=None will ignore the C and l1_ratio parameters\n",
      "  warnings.warn(\n",
      "C:\\Users\\Mahmoud\\anaconda3\\lib\\site-packages\\sklearn\\linear_model\\_logistic.py:1181: UserWarning: Setting penalty=None will ignore the C and l1_ratio parameters\n",
      "  warnings.warn(\n"
     ]
    },
    {
     "name": "stdout",
     "output_type": "stream",
     "text": [
      "{'penalty': None, 'C': 0.16, 'solver': 'lbfgs', 'accuracy': 0.48034335669741246, 'precision': 0.47168689300303424, 'recall': 0.480363850058697}\n"
     ]
    },
    {
     "name": "stderr",
     "output_type": "stream",
     "text": [
      "C:\\Users\\Mahmoud\\anaconda3\\lib\\site-packages\\sklearn\\linear_model\\_logistic.py:1181: UserWarning: Setting penalty=None will ignore the C and l1_ratio parameters\n",
      "  warnings.warn(\n",
      "C:\\Users\\Mahmoud\\anaconda3\\lib\\site-packages\\sklearn\\linear_model\\_logistic.py:1181: UserWarning: Setting penalty=None will ignore the C and l1_ratio parameters\n",
      "  warnings.warn(\n",
      "C:\\Users\\Mahmoud\\anaconda3\\lib\\site-packages\\sklearn\\linear_model\\_logistic.py:1181: UserWarning: Setting penalty=None will ignore the C and l1_ratio parameters\n",
      "  warnings.warn(\n",
      "C:\\Users\\Mahmoud\\anaconda3\\lib\\site-packages\\sklearn\\linear_model\\_logistic.py:1181: UserWarning: Setting penalty=None will ignore the C and l1_ratio parameters\n",
      "  warnings.warn(\n",
      "C:\\Users\\Mahmoud\\anaconda3\\lib\\site-packages\\sklearn\\linear_model\\_logistic.py:1181: UserWarning: Setting penalty=None will ignore the C and l1_ratio parameters\n",
      "  warnings.warn(\n"
     ]
    },
    {
     "name": "stdout",
     "output_type": "stream",
     "text": [
      "{'penalty': None, 'C': 0.16, 'solver': 'newton-cg', 'accuracy': 0.4802848032029453, 'precision': 0.4716356968378765, 'recall': 0.4803052853634047}\n"
     ]
    },
    {
     "name": "stderr",
     "output_type": "stream",
     "text": [
      "C:\\Users\\Mahmoud\\anaconda3\\lib\\site-packages\\sklearn\\linear_model\\_logistic.py:1181: UserWarning: Setting penalty=None will ignore the C and l1_ratio parameters\n",
      "  warnings.warn(\n",
      "C:\\Users\\Mahmoud\\anaconda3\\lib\\site-packages\\sklearn\\linear_model\\_logistic.py:1181: UserWarning: Setting penalty=None will ignore the C and l1_ratio parameters\n",
      "  warnings.warn(\n",
      "C:\\Users\\Mahmoud\\anaconda3\\lib\\site-packages\\sklearn\\linear_model\\_logistic.py:1181: UserWarning: Setting penalty=None will ignore the C and l1_ratio parameters\n",
      "  warnings.warn(\n",
      "C:\\Users\\Mahmoud\\anaconda3\\lib\\site-packages\\sklearn\\linear_model\\_logistic.py:1181: UserWarning: Setting penalty=None will ignore the C and l1_ratio parameters\n",
      "  warnings.warn(\n",
      "C:\\Users\\Mahmoud\\anaconda3\\lib\\site-packages\\sklearn\\linear_model\\_logistic.py:1181: UserWarning: Setting penalty=None will ignore the C and l1_ratio parameters\n",
      "  warnings.warn(\n"
     ]
    },
    {
     "name": "stdout",
     "output_type": "stream",
     "text": [
      "{'penalty': None, 'C': 0.16, 'solver': 'newton-cholesky', 'accuracy': 0.4799959339787591, 'precision': 0.4696405408282721, 'recall': 0.48001968385635596}\n"
     ]
    },
    {
     "name": "stderr",
     "output_type": "stream",
     "text": [
      "C:\\Users\\Mahmoud\\anaconda3\\lib\\site-packages\\sklearn\\linear_model\\_logistic.py:1181: UserWarning: Setting penalty=None will ignore the C and l1_ratio parameters\n",
      "  warnings.warn(\n",
      "C:\\Users\\Mahmoud\\anaconda3\\lib\\site-packages\\sklearn\\linear_model\\_logistic.py:1181: UserWarning: Setting penalty=None will ignore the C and l1_ratio parameters\n",
      "  warnings.warn(\n",
      "C:\\Users\\Mahmoud\\anaconda3\\lib\\site-packages\\sklearn\\linear_model\\_logistic.py:1181: UserWarning: Setting penalty=None will ignore the C and l1_ratio parameters\n",
      "  warnings.warn(\n",
      "C:\\Users\\Mahmoud\\anaconda3\\lib\\site-packages\\sklearn\\linear_model\\_logistic.py:1181: UserWarning: Setting penalty=None will ignore the C and l1_ratio parameters\n",
      "  warnings.warn(\n",
      "C:\\Users\\Mahmoud\\anaconda3\\lib\\site-packages\\sklearn\\linear_model\\_logistic.py:1181: UserWarning: Setting penalty=None will ignore the C and l1_ratio parameters\n",
      "  warnings.warn(\n"
     ]
    },
    {
     "name": "stdout",
     "output_type": "stream",
     "text": [
      "{'penalty': None, 'C': 0.16, 'solver': 'sag', 'accuracy': 0.48027699588749073, 'precision': 0.4716208909273722, 'recall': 0.4802974798761472}\n"
     ]
    },
    {
     "name": "stderr",
     "output_type": "stream",
     "text": [
      "C:\\Users\\Mahmoud\\anaconda3\\lib\\site-packages\\sklearn\\linear_model\\_logistic.py:1181: UserWarning: Setting penalty=None will ignore the C and l1_ratio parameters\n",
      "  warnings.warn(\n",
      "C:\\Users\\Mahmoud\\anaconda3\\lib\\site-packages\\sklearn\\linear_model\\_logistic.py:1181: UserWarning: Setting penalty=None will ignore the C and l1_ratio parameters\n",
      "  warnings.warn(\n",
      "C:\\Users\\Mahmoud\\anaconda3\\lib\\site-packages\\sklearn\\linear_model\\_logistic.py:1181: UserWarning: Setting penalty=None will ignore the C and l1_ratio parameters\n",
      "  warnings.warn(\n",
      "C:\\Users\\Mahmoud\\anaconda3\\lib\\site-packages\\sklearn\\linear_model\\_logistic.py:1181: UserWarning: Setting penalty=None will ignore the C and l1_ratio parameters\n",
      "  warnings.warn(\n",
      "C:\\Users\\Mahmoud\\anaconda3\\lib\\site-packages\\sklearn\\linear_model\\_logistic.py:1181: UserWarning: Setting penalty=None will ignore the C and l1_ratio parameters\n",
      "  warnings.warn(\n"
     ]
    },
    {
     "name": "stdout",
     "output_type": "stream",
     "text": [
      "{'penalty': None, 'C': 0.16, 'solver': 'saga', 'accuracy': 0.4802848032029453, 'precision': 0.4716356968378765, 'recall': 0.4803052853634047}\n"
     ]
    },
    {
     "name": "stderr",
     "output_type": "stream",
     "text": [
      "C:\\Users\\Mahmoud\\anaconda3\\lib\\site-packages\\sklearn\\linear_model\\_logistic.py:1181: UserWarning: Setting penalty=None will ignore the C and l1_ratio parameters\n",
      "  warnings.warn(\n",
      "C:\\Users\\Mahmoud\\anaconda3\\lib\\site-packages\\sklearn\\linear_model\\_logistic.py:1181: UserWarning: Setting penalty=None will ignore the C and l1_ratio parameters\n",
      "  warnings.warn(\n",
      "C:\\Users\\Mahmoud\\anaconda3\\lib\\site-packages\\sklearn\\linear_model\\_logistic.py:1181: UserWarning: Setting penalty=None will ignore the C and l1_ratio parameters\n",
      "  warnings.warn(\n",
      "C:\\Users\\Mahmoud\\anaconda3\\lib\\site-packages\\sklearn\\linear_model\\_logistic.py:1181: UserWarning: Setting penalty=None will ignore the C and l1_ratio parameters\n",
      "  warnings.warn(\n",
      "C:\\Users\\Mahmoud\\anaconda3\\lib\\site-packages\\sklearn\\linear_model\\_logistic.py:1181: UserWarning: Setting penalty=None will ignore the C and l1_ratio parameters\n",
      "  warnings.warn(\n"
     ]
    },
    {
     "name": "stdout",
     "output_type": "stream",
     "text": [
      "{'penalty': None, 'C': 0.32, 'solver': 'lbfgs', 'accuracy': 0.48034335669741246, 'precision': 0.47168689300303424, 'recall': 0.480363850058697}\n"
     ]
    },
    {
     "name": "stderr",
     "output_type": "stream",
     "text": [
      "C:\\Users\\Mahmoud\\anaconda3\\lib\\site-packages\\sklearn\\linear_model\\_logistic.py:1181: UserWarning: Setting penalty=None will ignore the C and l1_ratio parameters\n",
      "  warnings.warn(\n",
      "C:\\Users\\Mahmoud\\anaconda3\\lib\\site-packages\\sklearn\\linear_model\\_logistic.py:1181: UserWarning: Setting penalty=None will ignore the C and l1_ratio parameters\n",
      "  warnings.warn(\n",
      "C:\\Users\\Mahmoud\\anaconda3\\lib\\site-packages\\sklearn\\linear_model\\_logistic.py:1181: UserWarning: Setting penalty=None will ignore the C and l1_ratio parameters\n",
      "  warnings.warn(\n",
      "C:\\Users\\Mahmoud\\anaconda3\\lib\\site-packages\\sklearn\\linear_model\\_logistic.py:1181: UserWarning: Setting penalty=None will ignore the C and l1_ratio parameters\n",
      "  warnings.warn(\n",
      "C:\\Users\\Mahmoud\\anaconda3\\lib\\site-packages\\sklearn\\linear_model\\_logistic.py:1181: UserWarning: Setting penalty=None will ignore the C and l1_ratio parameters\n",
      "  warnings.warn(\n"
     ]
    },
    {
     "name": "stdout",
     "output_type": "stream",
     "text": [
      "{'penalty': None, 'C': 0.32, 'solver': 'newton-cg', 'accuracy': 0.4802848032029453, 'precision': 0.4716356968378765, 'recall': 0.4803052853634047}\n"
     ]
    },
    {
     "name": "stderr",
     "output_type": "stream",
     "text": [
      "C:\\Users\\Mahmoud\\anaconda3\\lib\\site-packages\\sklearn\\linear_model\\_logistic.py:1181: UserWarning: Setting penalty=None will ignore the C and l1_ratio parameters\n",
      "  warnings.warn(\n",
      "C:\\Users\\Mahmoud\\anaconda3\\lib\\site-packages\\sklearn\\linear_model\\_logistic.py:1181: UserWarning: Setting penalty=None will ignore the C and l1_ratio parameters\n",
      "  warnings.warn(\n",
      "C:\\Users\\Mahmoud\\anaconda3\\lib\\site-packages\\sklearn\\linear_model\\_logistic.py:1181: UserWarning: Setting penalty=None will ignore the C and l1_ratio parameters\n",
      "  warnings.warn(\n",
      "C:\\Users\\Mahmoud\\anaconda3\\lib\\site-packages\\sklearn\\linear_model\\_logistic.py:1181: UserWarning: Setting penalty=None will ignore the C and l1_ratio parameters\n",
      "  warnings.warn(\n",
      "C:\\Users\\Mahmoud\\anaconda3\\lib\\site-packages\\sklearn\\linear_model\\_logistic.py:1181: UserWarning: Setting penalty=None will ignore the C and l1_ratio parameters\n",
      "  warnings.warn(\n"
     ]
    },
    {
     "name": "stdout",
     "output_type": "stream",
     "text": [
      "{'penalty': None, 'C': 0.32, 'solver': 'newton-cholesky', 'accuracy': 0.4799959339787591, 'precision': 0.4696405408282721, 'recall': 0.48001968385635596}\n"
     ]
    },
    {
     "name": "stderr",
     "output_type": "stream",
     "text": [
      "C:\\Users\\Mahmoud\\anaconda3\\lib\\site-packages\\sklearn\\linear_model\\_logistic.py:1181: UserWarning: Setting penalty=None will ignore the C and l1_ratio parameters\n",
      "  warnings.warn(\n",
      "C:\\Users\\Mahmoud\\anaconda3\\lib\\site-packages\\sklearn\\linear_model\\_logistic.py:1181: UserWarning: Setting penalty=None will ignore the C and l1_ratio parameters\n",
      "  warnings.warn(\n",
      "C:\\Users\\Mahmoud\\anaconda3\\lib\\site-packages\\sklearn\\linear_model\\_logistic.py:1181: UserWarning: Setting penalty=None will ignore the C and l1_ratio parameters\n",
      "  warnings.warn(\n",
      "C:\\Users\\Mahmoud\\anaconda3\\lib\\site-packages\\sklearn\\linear_model\\_logistic.py:1181: UserWarning: Setting penalty=None will ignore the C and l1_ratio parameters\n",
      "  warnings.warn(\n",
      "C:\\Users\\Mahmoud\\anaconda3\\lib\\site-packages\\sklearn\\linear_model\\_logistic.py:1181: UserWarning: Setting penalty=None will ignore the C and l1_ratio parameters\n",
      "  warnings.warn(\n"
     ]
    },
    {
     "name": "stdout",
     "output_type": "stream",
     "text": [
      "{'penalty': None, 'C': 0.32, 'solver': 'sag', 'accuracy': 0.48028480312675403, 'precision': 0.4716347574936114, 'recall': 0.48030528650609483}\n"
     ]
    },
    {
     "name": "stderr",
     "output_type": "stream",
     "text": [
      "C:\\Users\\Mahmoud\\anaconda3\\lib\\site-packages\\sklearn\\linear_model\\_logistic.py:1181: UserWarning: Setting penalty=None will ignore the C and l1_ratio parameters\n",
      "  warnings.warn(\n",
      "C:\\Users\\Mahmoud\\anaconda3\\lib\\site-packages\\sklearn\\linear_model\\_logistic.py:1181: UserWarning: Setting penalty=None will ignore the C and l1_ratio parameters\n",
      "  warnings.warn(\n",
      "C:\\Users\\Mahmoud\\anaconda3\\lib\\site-packages\\sklearn\\linear_model\\_logistic.py:1181: UserWarning: Setting penalty=None will ignore the C and l1_ratio parameters\n",
      "  warnings.warn(\n",
      "C:\\Users\\Mahmoud\\anaconda3\\lib\\site-packages\\sklearn\\linear_model\\_logistic.py:1181: UserWarning: Setting penalty=None will ignore the C and l1_ratio parameters\n",
      "  warnings.warn(\n",
      "C:\\Users\\Mahmoud\\anaconda3\\lib\\site-packages\\sklearn\\linear_model\\_logistic.py:1181: UserWarning: Setting penalty=None will ignore the C and l1_ratio parameters\n",
      "  warnings.warn(\n"
     ]
    },
    {
     "name": "stdout",
     "output_type": "stream",
     "text": [
      "{'penalty': None, 'C': 0.32, 'solver': 'saga', 'accuracy': 0.4802808993928355, 'precision': 0.4716265247194785, 'recall': 0.48030138490515606}\n"
     ]
    },
    {
     "name": "stderr",
     "output_type": "stream",
     "text": [
      "C:\\Users\\Mahmoud\\anaconda3\\lib\\site-packages\\sklearn\\linear_model\\_logistic.py:1181: UserWarning: Setting penalty=None will ignore the C and l1_ratio parameters\n",
      "  warnings.warn(\n",
      "C:\\Users\\Mahmoud\\anaconda3\\lib\\site-packages\\sklearn\\linear_model\\_logistic.py:1181: UserWarning: Setting penalty=None will ignore the C and l1_ratio parameters\n",
      "  warnings.warn(\n",
      "C:\\Users\\Mahmoud\\anaconda3\\lib\\site-packages\\sklearn\\linear_model\\_logistic.py:1181: UserWarning: Setting penalty=None will ignore the C and l1_ratio parameters\n",
      "  warnings.warn(\n",
      "C:\\Users\\Mahmoud\\anaconda3\\lib\\site-packages\\sklearn\\linear_model\\_logistic.py:1181: UserWarning: Setting penalty=None will ignore the C and l1_ratio parameters\n",
      "  warnings.warn(\n",
      "C:\\Users\\Mahmoud\\anaconda3\\lib\\site-packages\\sklearn\\linear_model\\_logistic.py:1181: UserWarning: Setting penalty=None will ignore the C and l1_ratio parameters\n",
      "  warnings.warn(\n"
     ]
    },
    {
     "name": "stdout",
     "output_type": "stream",
     "text": [
      "{'penalty': None, 'C': 0.64, 'solver': 'lbfgs', 'accuracy': 0.48034335669741246, 'precision': 0.47168689300303424, 'recall': 0.480363850058697}\n"
     ]
    },
    {
     "name": "stderr",
     "output_type": "stream",
     "text": [
      "C:\\Users\\Mahmoud\\anaconda3\\lib\\site-packages\\sklearn\\linear_model\\_logistic.py:1181: UserWarning: Setting penalty=None will ignore the C and l1_ratio parameters\n",
      "  warnings.warn(\n",
      "C:\\Users\\Mahmoud\\anaconda3\\lib\\site-packages\\sklearn\\linear_model\\_logistic.py:1181: UserWarning: Setting penalty=None will ignore the C and l1_ratio parameters\n",
      "  warnings.warn(\n",
      "C:\\Users\\Mahmoud\\anaconda3\\lib\\site-packages\\sklearn\\linear_model\\_logistic.py:1181: UserWarning: Setting penalty=None will ignore the C and l1_ratio parameters\n",
      "  warnings.warn(\n",
      "C:\\Users\\Mahmoud\\anaconda3\\lib\\site-packages\\sklearn\\linear_model\\_logistic.py:1181: UserWarning: Setting penalty=None will ignore the C and l1_ratio parameters\n",
      "  warnings.warn(\n",
      "C:\\Users\\Mahmoud\\anaconda3\\lib\\site-packages\\sklearn\\linear_model\\_logistic.py:1181: UserWarning: Setting penalty=None will ignore the C and l1_ratio parameters\n",
      "  warnings.warn(\n"
     ]
    },
    {
     "name": "stdout",
     "output_type": "stream",
     "text": [
      "{'penalty': None, 'C': 0.64, 'solver': 'newton-cg', 'accuracy': 0.4802848032029453, 'precision': 0.4716356968378765, 'recall': 0.4803052853634047}\n"
     ]
    },
    {
     "name": "stderr",
     "output_type": "stream",
     "text": [
      "C:\\Users\\Mahmoud\\anaconda3\\lib\\site-packages\\sklearn\\linear_model\\_logistic.py:1181: UserWarning: Setting penalty=None will ignore the C and l1_ratio parameters\n",
      "  warnings.warn(\n",
      "C:\\Users\\Mahmoud\\anaconda3\\lib\\site-packages\\sklearn\\linear_model\\_logistic.py:1181: UserWarning: Setting penalty=None will ignore the C and l1_ratio parameters\n",
      "  warnings.warn(\n",
      "C:\\Users\\Mahmoud\\anaconda3\\lib\\site-packages\\sklearn\\linear_model\\_logistic.py:1181: UserWarning: Setting penalty=None will ignore the C and l1_ratio parameters\n",
      "  warnings.warn(\n",
      "C:\\Users\\Mahmoud\\anaconda3\\lib\\site-packages\\sklearn\\linear_model\\_logistic.py:1181: UserWarning: Setting penalty=None will ignore the C and l1_ratio parameters\n",
      "  warnings.warn(\n",
      "C:\\Users\\Mahmoud\\anaconda3\\lib\\site-packages\\sklearn\\linear_model\\_logistic.py:1181: UserWarning: Setting penalty=None will ignore the C and l1_ratio parameters\n",
      "  warnings.warn(\n"
     ]
    },
    {
     "name": "stdout",
     "output_type": "stream",
     "text": [
      "{'penalty': None, 'C': 0.64, 'solver': 'newton-cholesky', 'accuracy': 0.4799959339787591, 'precision': 0.4696405408282721, 'recall': 0.48001968385635596}\n"
     ]
    },
    {
     "name": "stderr",
     "output_type": "stream",
     "text": [
      "C:\\Users\\Mahmoud\\anaconda3\\lib\\site-packages\\sklearn\\linear_model\\_logistic.py:1181: UserWarning: Setting penalty=None will ignore the C and l1_ratio parameters\n",
      "  warnings.warn(\n",
      "C:\\Users\\Mahmoud\\anaconda3\\lib\\site-packages\\sklearn\\linear_model\\_logistic.py:1181: UserWarning: Setting penalty=None will ignore the C and l1_ratio parameters\n",
      "  warnings.warn(\n",
      "C:\\Users\\Mahmoud\\anaconda3\\lib\\site-packages\\sklearn\\linear_model\\_logistic.py:1181: UserWarning: Setting penalty=None will ignore the C and l1_ratio parameters\n",
      "  warnings.warn(\n",
      "C:\\Users\\Mahmoud\\anaconda3\\lib\\site-packages\\sklearn\\linear_model\\_logistic.py:1181: UserWarning: Setting penalty=None will ignore the C and l1_ratio parameters\n",
      "  warnings.warn(\n",
      "C:\\Users\\Mahmoud\\anaconda3\\lib\\site-packages\\sklearn\\linear_model\\_logistic.py:1181: UserWarning: Setting penalty=None will ignore the C and l1_ratio parameters\n",
      "  warnings.warn(\n"
     ]
    },
    {
     "name": "stdout",
     "output_type": "stream",
     "text": [
      "{'penalty': None, 'C': 0.64, 'solver': 'sag', 'accuracy': 0.4802496701310172, 'precision': 0.47160343055224085, 'recall': 0.4802701453566378}\n"
     ]
    },
    {
     "name": "stderr",
     "output_type": "stream",
     "text": [
      "C:\\Users\\Mahmoud\\anaconda3\\lib\\site-packages\\sklearn\\linear_model\\_logistic.py:1181: UserWarning: Setting penalty=None will ignore the C and l1_ratio parameters\n",
      "  warnings.warn(\n",
      "C:\\Users\\Mahmoud\\anaconda3\\lib\\site-packages\\sklearn\\linear_model\\_logistic.py:1181: UserWarning: Setting penalty=None will ignore the C and l1_ratio parameters\n",
      "  warnings.warn(\n",
      "C:\\Users\\Mahmoud\\anaconda3\\lib\\site-packages\\sklearn\\linear_model\\_logistic.py:1181: UserWarning: Setting penalty=None will ignore the C and l1_ratio parameters\n",
      "  warnings.warn(\n",
      "C:\\Users\\Mahmoud\\anaconda3\\lib\\site-packages\\sklearn\\linear_model\\_logistic.py:1181: UserWarning: Setting penalty=None will ignore the C and l1_ratio parameters\n",
      "  warnings.warn(\n",
      "C:\\Users\\Mahmoud\\anaconda3\\lib\\site-packages\\sklearn\\linear_model\\_logistic.py:1181: UserWarning: Setting penalty=None will ignore the C and l1_ratio parameters\n",
      "  warnings.warn(\n"
     ]
    },
    {
     "name": "stdout",
     "output_type": "stream",
     "text": [
      "{'penalty': None, 'C': 0.64, 'solver': 'saga', 'accuracy': 0.48033164602899553, 'precision': 0.4716761071062995, 'recall': 0.4803521386279573}\n"
     ]
    },
    {
     "name": "stderr",
     "output_type": "stream",
     "text": [
      "C:\\Users\\Mahmoud\\anaconda3\\lib\\site-packages\\sklearn\\linear_model\\_logistic.py:1181: UserWarning: Setting penalty=None will ignore the C and l1_ratio parameters\n",
      "  warnings.warn(\n",
      "C:\\Users\\Mahmoud\\anaconda3\\lib\\site-packages\\sklearn\\linear_model\\_logistic.py:1181: UserWarning: Setting penalty=None will ignore the C and l1_ratio parameters\n",
      "  warnings.warn(\n",
      "C:\\Users\\Mahmoud\\anaconda3\\lib\\site-packages\\sklearn\\linear_model\\_logistic.py:1181: UserWarning: Setting penalty=None will ignore the C and l1_ratio parameters\n",
      "  warnings.warn(\n",
      "C:\\Users\\Mahmoud\\anaconda3\\lib\\site-packages\\sklearn\\linear_model\\_logistic.py:1181: UserWarning: Setting penalty=None will ignore the C and l1_ratio parameters\n",
      "  warnings.warn(\n",
      "C:\\Users\\Mahmoud\\anaconda3\\lib\\site-packages\\sklearn\\linear_model\\_logistic.py:1181: UserWarning: Setting penalty=None will ignore the C and l1_ratio parameters\n",
      "  warnings.warn(\n"
     ]
    },
    {
     "name": "stdout",
     "output_type": "stream",
     "text": [
      "{'penalty': None, 'C': 1.28, 'solver': 'lbfgs', 'accuracy': 0.48034335669741246, 'precision': 0.47168689300303424, 'recall': 0.480363850058697}\n"
     ]
    },
    {
     "name": "stderr",
     "output_type": "stream",
     "text": [
      "C:\\Users\\Mahmoud\\anaconda3\\lib\\site-packages\\sklearn\\linear_model\\_logistic.py:1181: UserWarning: Setting penalty=None will ignore the C and l1_ratio parameters\n",
      "  warnings.warn(\n",
      "C:\\Users\\Mahmoud\\anaconda3\\lib\\site-packages\\sklearn\\linear_model\\_logistic.py:1181: UserWarning: Setting penalty=None will ignore the C and l1_ratio parameters\n",
      "  warnings.warn(\n",
      "C:\\Users\\Mahmoud\\anaconda3\\lib\\site-packages\\sklearn\\linear_model\\_logistic.py:1181: UserWarning: Setting penalty=None will ignore the C and l1_ratio parameters\n",
      "  warnings.warn(\n",
      "C:\\Users\\Mahmoud\\anaconda3\\lib\\site-packages\\sklearn\\linear_model\\_logistic.py:1181: UserWarning: Setting penalty=None will ignore the C and l1_ratio parameters\n",
      "  warnings.warn(\n",
      "C:\\Users\\Mahmoud\\anaconda3\\lib\\site-packages\\sklearn\\linear_model\\_logistic.py:1181: UserWarning: Setting penalty=None will ignore the C and l1_ratio parameters\n",
      "  warnings.warn(\n"
     ]
    },
    {
     "name": "stdout",
     "output_type": "stream",
     "text": [
      "{'penalty': None, 'C': 1.28, 'solver': 'newton-cg', 'accuracy': 0.4802848032029453, 'precision': 0.4716356968378765, 'recall': 0.4803052853634047}\n"
     ]
    },
    {
     "name": "stderr",
     "output_type": "stream",
     "text": [
      "C:\\Users\\Mahmoud\\anaconda3\\lib\\site-packages\\sklearn\\linear_model\\_logistic.py:1181: UserWarning: Setting penalty=None will ignore the C and l1_ratio parameters\n",
      "  warnings.warn(\n",
      "C:\\Users\\Mahmoud\\anaconda3\\lib\\site-packages\\sklearn\\linear_model\\_logistic.py:1181: UserWarning: Setting penalty=None will ignore the C and l1_ratio parameters\n",
      "  warnings.warn(\n",
      "C:\\Users\\Mahmoud\\anaconda3\\lib\\site-packages\\sklearn\\linear_model\\_logistic.py:1181: UserWarning: Setting penalty=None will ignore the C and l1_ratio parameters\n",
      "  warnings.warn(\n",
      "C:\\Users\\Mahmoud\\anaconda3\\lib\\site-packages\\sklearn\\linear_model\\_logistic.py:1181: UserWarning: Setting penalty=None will ignore the C and l1_ratio parameters\n",
      "  warnings.warn(\n",
      "C:\\Users\\Mahmoud\\anaconda3\\lib\\site-packages\\sklearn\\linear_model\\_logistic.py:1181: UserWarning: Setting penalty=None will ignore the C and l1_ratio parameters\n",
      "  warnings.warn(\n"
     ]
    },
    {
     "name": "stdout",
     "output_type": "stream",
     "text": [
      "{'penalty': None, 'C': 1.28, 'solver': 'newton-cholesky', 'accuracy': 0.4799959339787591, 'precision': 0.4696405408282721, 'recall': 0.48001968385635596}\n"
     ]
    },
    {
     "name": "stderr",
     "output_type": "stream",
     "text": [
      "C:\\Users\\Mahmoud\\anaconda3\\lib\\site-packages\\sklearn\\linear_model\\_logistic.py:1181: UserWarning: Setting penalty=None will ignore the C and l1_ratio parameters\n",
      "  warnings.warn(\n",
      "C:\\Users\\Mahmoud\\anaconda3\\lib\\site-packages\\sklearn\\linear_model\\_logistic.py:1181: UserWarning: Setting penalty=None will ignore the C and l1_ratio parameters\n",
      "  warnings.warn(\n",
      "C:\\Users\\Mahmoud\\anaconda3\\lib\\site-packages\\sklearn\\linear_model\\_logistic.py:1181: UserWarning: Setting penalty=None will ignore the C and l1_ratio parameters\n",
      "  warnings.warn(\n",
      "C:\\Users\\Mahmoud\\anaconda3\\lib\\site-packages\\sklearn\\linear_model\\_logistic.py:1181: UserWarning: Setting penalty=None will ignore the C and l1_ratio parameters\n",
      "  warnings.warn(\n",
      "C:\\Users\\Mahmoud\\anaconda3\\lib\\site-packages\\sklearn\\linear_model\\_logistic.py:1181: UserWarning: Setting penalty=None will ignore the C and l1_ratio parameters\n",
      "  warnings.warn(\n"
     ]
    },
    {
     "name": "stdout",
     "output_type": "stream",
     "text": [
      "{'penalty': None, 'C': 1.28, 'solver': 'sag', 'accuracy': 0.4803589712521304, 'precision': 0.47170449049675967, 'recall': 0.48037946331859216}\n"
     ]
    },
    {
     "name": "stderr",
     "output_type": "stream",
     "text": [
      "C:\\Users\\Mahmoud\\anaconda3\\lib\\site-packages\\sklearn\\linear_model\\_logistic.py:1181: UserWarning: Setting penalty=None will ignore the C and l1_ratio parameters\n",
      "  warnings.warn(\n",
      "C:\\Users\\Mahmoud\\anaconda3\\lib\\site-packages\\sklearn\\linear_model\\_logistic.py:1181: UserWarning: Setting penalty=None will ignore the C and l1_ratio parameters\n",
      "  warnings.warn(\n",
      "C:\\Users\\Mahmoud\\anaconda3\\lib\\site-packages\\sklearn\\linear_model\\_logistic.py:1181: UserWarning: Setting penalty=None will ignore the C and l1_ratio parameters\n",
      "  warnings.warn(\n",
      "C:\\Users\\Mahmoud\\anaconda3\\lib\\site-packages\\sklearn\\linear_model\\_logistic.py:1181: UserWarning: Setting penalty=None will ignore the C and l1_ratio parameters\n",
      "  warnings.warn(\n",
      "C:\\Users\\Mahmoud\\anaconda3\\lib\\site-packages\\sklearn\\linear_model\\_logistic.py:1181: UserWarning: Setting penalty=None will ignore the C and l1_ratio parameters\n",
      "  warnings.warn(\n"
     ]
    },
    {
     "name": "stdout",
     "output_type": "stream",
     "text": [
      "{'penalty': None, 'C': 1.28, 'solver': 'saga', 'accuracy': 0.4803745862639957, 'precision': 0.47171097789913147, 'recall': 0.48039508640736184}\n"
     ]
    },
    {
     "name": "stderr",
     "output_type": "stream",
     "text": [
      "C:\\Users\\Mahmoud\\anaconda3\\lib\\site-packages\\sklearn\\linear_model\\_logistic.py:1181: UserWarning: Setting penalty=None will ignore the C and l1_ratio parameters\n",
      "  warnings.warn(\n",
      "C:\\Users\\Mahmoud\\anaconda3\\lib\\site-packages\\sklearn\\linear_model\\_logistic.py:1181: UserWarning: Setting penalty=None will ignore the C and l1_ratio parameters\n",
      "  warnings.warn(\n",
      "C:\\Users\\Mahmoud\\anaconda3\\lib\\site-packages\\sklearn\\linear_model\\_logistic.py:1181: UserWarning: Setting penalty=None will ignore the C and l1_ratio parameters\n",
      "  warnings.warn(\n",
      "C:\\Users\\Mahmoud\\anaconda3\\lib\\site-packages\\sklearn\\linear_model\\_logistic.py:1181: UserWarning: Setting penalty=None will ignore the C and l1_ratio parameters\n",
      "  warnings.warn(\n",
      "C:\\Users\\Mahmoud\\anaconda3\\lib\\site-packages\\sklearn\\linear_model\\_logistic.py:1181: UserWarning: Setting penalty=None will ignore the C and l1_ratio parameters\n",
      "  warnings.warn(\n"
     ]
    },
    {
     "name": "stdout",
     "output_type": "stream",
     "text": [
      "{'penalty': None, 'C': 2.56, 'solver': 'lbfgs', 'accuracy': 0.48034335669741246, 'precision': 0.47168689300303424, 'recall': 0.480363850058697}\n"
     ]
    },
    {
     "name": "stderr",
     "output_type": "stream",
     "text": [
      "C:\\Users\\Mahmoud\\anaconda3\\lib\\site-packages\\sklearn\\linear_model\\_logistic.py:1181: UserWarning: Setting penalty=None will ignore the C and l1_ratio parameters\n",
      "  warnings.warn(\n",
      "C:\\Users\\Mahmoud\\anaconda3\\lib\\site-packages\\sklearn\\linear_model\\_logistic.py:1181: UserWarning: Setting penalty=None will ignore the C and l1_ratio parameters\n",
      "  warnings.warn(\n",
      "C:\\Users\\Mahmoud\\anaconda3\\lib\\site-packages\\sklearn\\linear_model\\_logistic.py:1181: UserWarning: Setting penalty=None will ignore the C and l1_ratio parameters\n",
      "  warnings.warn(\n",
      "C:\\Users\\Mahmoud\\anaconda3\\lib\\site-packages\\sklearn\\linear_model\\_logistic.py:1181: UserWarning: Setting penalty=None will ignore the C and l1_ratio parameters\n",
      "  warnings.warn(\n",
      "C:\\Users\\Mahmoud\\anaconda3\\lib\\site-packages\\sklearn\\linear_model\\_logistic.py:1181: UserWarning: Setting penalty=None will ignore the C and l1_ratio parameters\n",
      "  warnings.warn(\n"
     ]
    },
    {
     "name": "stdout",
     "output_type": "stream",
     "text": [
      "{'penalty': None, 'C': 2.56, 'solver': 'newton-cg', 'accuracy': 0.4802848032029453, 'precision': 0.4716356968378765, 'recall': 0.4803052853634047}\n"
     ]
    },
    {
     "name": "stderr",
     "output_type": "stream",
     "text": [
      "C:\\Users\\Mahmoud\\anaconda3\\lib\\site-packages\\sklearn\\linear_model\\_logistic.py:1181: UserWarning: Setting penalty=None will ignore the C and l1_ratio parameters\n",
      "  warnings.warn(\n",
      "C:\\Users\\Mahmoud\\anaconda3\\lib\\site-packages\\sklearn\\linear_model\\_logistic.py:1181: UserWarning: Setting penalty=None will ignore the C and l1_ratio parameters\n",
      "  warnings.warn(\n",
      "C:\\Users\\Mahmoud\\anaconda3\\lib\\site-packages\\sklearn\\linear_model\\_logistic.py:1181: UserWarning: Setting penalty=None will ignore the C and l1_ratio parameters\n",
      "  warnings.warn(\n",
      "C:\\Users\\Mahmoud\\anaconda3\\lib\\site-packages\\sklearn\\linear_model\\_logistic.py:1181: UserWarning: Setting penalty=None will ignore the C and l1_ratio parameters\n",
      "  warnings.warn(\n",
      "C:\\Users\\Mahmoud\\anaconda3\\lib\\site-packages\\sklearn\\linear_model\\_logistic.py:1181: UserWarning: Setting penalty=None will ignore the C and l1_ratio parameters\n",
      "  warnings.warn(\n"
     ]
    },
    {
     "name": "stdout",
     "output_type": "stream",
     "text": [
      "{'penalty': None, 'C': 2.56, 'solver': 'newton-cholesky', 'accuracy': 0.4799959339787591, 'precision': 0.4696405408282721, 'recall': 0.48001968385635596}\n"
     ]
    },
    {
     "name": "stderr",
     "output_type": "stream",
     "text": [
      "C:\\Users\\Mahmoud\\anaconda3\\lib\\site-packages\\sklearn\\linear_model\\_logistic.py:1181: UserWarning: Setting penalty=None will ignore the C and l1_ratio parameters\n",
      "  warnings.warn(\n",
      "C:\\Users\\Mahmoud\\anaconda3\\lib\\site-packages\\sklearn\\linear_model\\_logistic.py:1181: UserWarning: Setting penalty=None will ignore the C and l1_ratio parameters\n",
      "  warnings.warn(\n",
      "C:\\Users\\Mahmoud\\anaconda3\\lib\\site-packages\\sklearn\\linear_model\\_logistic.py:1181: UserWarning: Setting penalty=None will ignore the C and l1_ratio parameters\n",
      "  warnings.warn(\n",
      "C:\\Users\\Mahmoud\\anaconda3\\lib\\site-packages\\sklearn\\linear_model\\_logistic.py:1181: UserWarning: Setting penalty=None will ignore the C and l1_ratio parameters\n",
      "  warnings.warn(\n",
      "C:\\Users\\Mahmoud\\anaconda3\\lib\\site-packages\\sklearn\\linear_model\\_logistic.py:1181: UserWarning: Setting penalty=None will ignore the C and l1_ratio parameters\n",
      "  warnings.warn(\n"
     ]
    },
    {
     "name": "stdout",
     "output_type": "stream",
     "text": [
      "{'penalty': None, 'C': 2.56, 'solver': 'sag', 'accuracy': 0.48029651394755346, 'precision': 0.4716448694201866, 'recall': 0.4803169970223612}\n"
     ]
    },
    {
     "name": "stderr",
     "output_type": "stream",
     "text": [
      "C:\\Users\\Mahmoud\\anaconda3\\lib\\site-packages\\sklearn\\linear_model\\_logistic.py:1181: UserWarning: Setting penalty=None will ignore the C and l1_ratio parameters\n",
      "  warnings.warn(\n",
      "C:\\Users\\Mahmoud\\anaconda3\\lib\\site-packages\\sklearn\\linear_model\\_logistic.py:1181: UserWarning: Setting penalty=None will ignore the C and l1_ratio parameters\n",
      "  warnings.warn(\n",
      "C:\\Users\\Mahmoud\\anaconda3\\lib\\site-packages\\sklearn\\linear_model\\_logistic.py:1181: UserWarning: Setting penalty=None will ignore the C and l1_ratio parameters\n",
      "  warnings.warn(\n",
      "C:\\Users\\Mahmoud\\anaconda3\\lib\\site-packages\\sklearn\\linear_model\\_logistic.py:1181: UserWarning: Setting penalty=None will ignore the C and l1_ratio parameters\n",
      "  warnings.warn(\n",
      "C:\\Users\\Mahmoud\\anaconda3\\lib\\site-packages\\sklearn\\linear_model\\_logistic.py:1181: UserWarning: Setting penalty=None will ignore the C and l1_ratio parameters\n",
      "  warnings.warn(\n"
     ]
    },
    {
     "name": "stdout",
     "output_type": "stream",
     "text": [
      "{'penalty': None, 'C': 2.56, 'solver': 'saga', 'accuracy': 0.48036287483366646, 'precision': 0.4717084369718589, 'recall': 0.480383367204911}\n"
     ]
    },
    {
     "name": "stderr",
     "output_type": "stream",
     "text": [
      "C:\\Users\\Mahmoud\\anaconda3\\lib\\site-packages\\sklearn\\linear_model\\_logistic.py:1181: UserWarning: Setting penalty=None will ignore the C and l1_ratio parameters\n",
      "  warnings.warn(\n",
      "C:\\Users\\Mahmoud\\anaconda3\\lib\\site-packages\\sklearn\\linear_model\\_logistic.py:1181: UserWarning: Setting penalty=None will ignore the C and l1_ratio parameters\n",
      "  warnings.warn(\n",
      "C:\\Users\\Mahmoud\\anaconda3\\lib\\site-packages\\sklearn\\linear_model\\_logistic.py:1181: UserWarning: Setting penalty=None will ignore the C and l1_ratio parameters\n",
      "  warnings.warn(\n",
      "C:\\Users\\Mahmoud\\anaconda3\\lib\\site-packages\\sklearn\\linear_model\\_logistic.py:1181: UserWarning: Setting penalty=None will ignore the C and l1_ratio parameters\n",
      "  warnings.warn(\n",
      "C:\\Users\\Mahmoud\\anaconda3\\lib\\site-packages\\sklearn\\linear_model\\_logistic.py:1181: UserWarning: Setting penalty=None will ignore the C and l1_ratio parameters\n",
      "  warnings.warn(\n"
     ]
    },
    {
     "name": "stdout",
     "output_type": "stream",
     "text": [
      "{'penalty': None, 'C': 5.12, 'solver': 'lbfgs', 'accuracy': 0.48034335669741246, 'precision': 0.47168689300303424, 'recall': 0.480363850058697}\n"
     ]
    },
    {
     "name": "stderr",
     "output_type": "stream",
     "text": [
      "C:\\Users\\Mahmoud\\anaconda3\\lib\\site-packages\\sklearn\\linear_model\\_logistic.py:1181: UserWarning: Setting penalty=None will ignore the C and l1_ratio parameters\n",
      "  warnings.warn(\n",
      "C:\\Users\\Mahmoud\\anaconda3\\lib\\site-packages\\sklearn\\linear_model\\_logistic.py:1181: UserWarning: Setting penalty=None will ignore the C and l1_ratio parameters\n",
      "  warnings.warn(\n",
      "C:\\Users\\Mahmoud\\anaconda3\\lib\\site-packages\\sklearn\\linear_model\\_logistic.py:1181: UserWarning: Setting penalty=None will ignore the C and l1_ratio parameters\n",
      "  warnings.warn(\n",
      "C:\\Users\\Mahmoud\\anaconda3\\lib\\site-packages\\sklearn\\linear_model\\_logistic.py:1181: UserWarning: Setting penalty=None will ignore the C and l1_ratio parameters\n",
      "  warnings.warn(\n",
      "C:\\Users\\Mahmoud\\anaconda3\\lib\\site-packages\\sklearn\\linear_model\\_logistic.py:1181: UserWarning: Setting penalty=None will ignore the C and l1_ratio parameters\n",
      "  warnings.warn(\n"
     ]
    },
    {
     "name": "stdout",
     "output_type": "stream",
     "text": [
      "{'penalty': None, 'C': 5.12, 'solver': 'newton-cg', 'accuracy': 0.4802848032029453, 'precision': 0.4716356968378765, 'recall': 0.4803052853634047}\n"
     ]
    },
    {
     "name": "stderr",
     "output_type": "stream",
     "text": [
      "C:\\Users\\Mahmoud\\anaconda3\\lib\\site-packages\\sklearn\\linear_model\\_logistic.py:1181: UserWarning: Setting penalty=None will ignore the C and l1_ratio parameters\n",
      "  warnings.warn(\n",
      "C:\\Users\\Mahmoud\\anaconda3\\lib\\site-packages\\sklearn\\linear_model\\_logistic.py:1181: UserWarning: Setting penalty=None will ignore the C and l1_ratio parameters\n",
      "  warnings.warn(\n",
      "C:\\Users\\Mahmoud\\anaconda3\\lib\\site-packages\\sklearn\\linear_model\\_logistic.py:1181: UserWarning: Setting penalty=None will ignore the C and l1_ratio parameters\n",
      "  warnings.warn(\n",
      "C:\\Users\\Mahmoud\\anaconda3\\lib\\site-packages\\sklearn\\linear_model\\_logistic.py:1181: UserWarning: Setting penalty=None will ignore the C and l1_ratio parameters\n",
      "  warnings.warn(\n",
      "C:\\Users\\Mahmoud\\anaconda3\\lib\\site-packages\\sklearn\\linear_model\\_logistic.py:1181: UserWarning: Setting penalty=None will ignore the C and l1_ratio parameters\n",
      "  warnings.warn(\n"
     ]
    },
    {
     "name": "stdout",
     "output_type": "stream",
     "text": [
      "{'penalty': None, 'C': 5.12, 'solver': 'newton-cholesky', 'accuracy': 0.4799959339787591, 'precision': 0.4696405408282721, 'recall': 0.48001968385635596}\n"
     ]
    },
    {
     "name": "stderr",
     "output_type": "stream",
     "text": [
      "C:\\Users\\Mahmoud\\anaconda3\\lib\\site-packages\\sklearn\\linear_model\\_logistic.py:1181: UserWarning: Setting penalty=None will ignore the C and l1_ratio parameters\n",
      "  warnings.warn(\n",
      "C:\\Users\\Mahmoud\\anaconda3\\lib\\site-packages\\sklearn\\linear_model\\_logistic.py:1181: UserWarning: Setting penalty=None will ignore the C and l1_ratio parameters\n",
      "  warnings.warn(\n",
      "C:\\Users\\Mahmoud\\anaconda3\\lib\\site-packages\\sklearn\\linear_model\\_logistic.py:1181: UserWarning: Setting penalty=None will ignore the C and l1_ratio parameters\n",
      "  warnings.warn(\n",
      "C:\\Users\\Mahmoud\\anaconda3\\lib\\site-packages\\sklearn\\linear_model\\_logistic.py:1181: UserWarning: Setting penalty=None will ignore the C and l1_ratio parameters\n",
      "  warnings.warn(\n",
      "C:\\Users\\Mahmoud\\anaconda3\\lib\\site-packages\\sklearn\\linear_model\\_logistic.py:1181: UserWarning: Setting penalty=None will ignore the C and l1_ratio parameters\n",
      "  warnings.warn(\n"
     ]
    },
    {
     "name": "stdout",
     "output_type": "stream",
     "text": [
      "{'penalty': None, 'C': 5.12, 'solver': 'sag', 'accuracy': 0.4803316470194815, 'precision': 0.4716779892320406, 'recall': 0.48035213588643816}\n"
     ]
    },
    {
     "name": "stderr",
     "output_type": "stream",
     "text": [
      "C:\\Users\\Mahmoud\\anaconda3\\lib\\site-packages\\sklearn\\linear_model\\_logistic.py:1181: UserWarning: Setting penalty=None will ignore the C and l1_ratio parameters\n",
      "  warnings.warn(\n",
      "C:\\Users\\Mahmoud\\anaconda3\\lib\\site-packages\\sklearn\\linear_model\\_logistic.py:1181: UserWarning: Setting penalty=None will ignore the C and l1_ratio parameters\n",
      "  warnings.warn(\n",
      "C:\\Users\\Mahmoud\\anaconda3\\lib\\site-packages\\sklearn\\linear_model\\_logistic.py:1181: UserWarning: Setting penalty=None will ignore the C and l1_ratio parameters\n",
      "  warnings.warn(\n",
      "C:\\Users\\Mahmoud\\anaconda3\\lib\\site-packages\\sklearn\\linear_model\\_logistic.py:1181: UserWarning: Setting penalty=None will ignore the C and l1_ratio parameters\n",
      "  warnings.warn(\n",
      "C:\\Users\\Mahmoud\\anaconda3\\lib\\site-packages\\sklearn\\linear_model\\_logistic.py:1181: UserWarning: Setting penalty=None will ignore the C and l1_ratio parameters\n",
      "  warnings.warn(\n"
     ]
    },
    {
     "name": "stdout",
     "output_type": "stream",
     "text": [
      "{'penalty': None, 'C': 5.12, 'solver': 'saga', 'accuracy': 0.4802887068606726, 'precision': 0.4716372759181091, 'recall': 0.48030918924972354}\n"
     ]
    },
    {
     "name": "stderr",
     "output_type": "stream",
     "text": [
      "C:\\Users\\Mahmoud\\anaconda3\\lib\\site-packages\\sklearn\\linear_model\\_logistic.py:1181: UserWarning: Setting penalty=None will ignore the C and l1_ratio parameters\n",
      "  warnings.warn(\n",
      "C:\\Users\\Mahmoud\\anaconda3\\lib\\site-packages\\sklearn\\linear_model\\_logistic.py:1181: UserWarning: Setting penalty=None will ignore the C and l1_ratio parameters\n",
      "  warnings.warn(\n",
      "C:\\Users\\Mahmoud\\anaconda3\\lib\\site-packages\\sklearn\\linear_model\\_logistic.py:1181: UserWarning: Setting penalty=None will ignore the C and l1_ratio parameters\n",
      "  warnings.warn(\n",
      "C:\\Users\\Mahmoud\\anaconda3\\lib\\site-packages\\sklearn\\linear_model\\_logistic.py:1181: UserWarning: Setting penalty=None will ignore the C and l1_ratio parameters\n",
      "  warnings.warn(\n",
      "C:\\Users\\Mahmoud\\anaconda3\\lib\\site-packages\\sklearn\\linear_model\\_logistic.py:1181: UserWarning: Setting penalty=None will ignore the C and l1_ratio parameters\n",
      "  warnings.warn(\n"
     ]
    },
    {
     "name": "stdout",
     "output_type": "stream",
     "text": [
      "{'penalty': None, 'C': 10.24, 'solver': 'lbfgs', 'accuracy': 0.48034335669741246, 'precision': 0.47168689300303424, 'recall': 0.480363850058697}\n"
     ]
    },
    {
     "name": "stderr",
     "output_type": "stream",
     "text": [
      "C:\\Users\\Mahmoud\\anaconda3\\lib\\site-packages\\sklearn\\linear_model\\_logistic.py:1181: UserWarning: Setting penalty=None will ignore the C and l1_ratio parameters\n",
      "  warnings.warn(\n",
      "C:\\Users\\Mahmoud\\anaconda3\\lib\\site-packages\\sklearn\\linear_model\\_logistic.py:1181: UserWarning: Setting penalty=None will ignore the C and l1_ratio parameters\n",
      "  warnings.warn(\n",
      "C:\\Users\\Mahmoud\\anaconda3\\lib\\site-packages\\sklearn\\linear_model\\_logistic.py:1181: UserWarning: Setting penalty=None will ignore the C and l1_ratio parameters\n",
      "  warnings.warn(\n",
      "C:\\Users\\Mahmoud\\anaconda3\\lib\\site-packages\\sklearn\\linear_model\\_logistic.py:1181: UserWarning: Setting penalty=None will ignore the C and l1_ratio parameters\n",
      "  warnings.warn(\n",
      "C:\\Users\\Mahmoud\\anaconda3\\lib\\site-packages\\sklearn\\linear_model\\_logistic.py:1181: UserWarning: Setting penalty=None will ignore the C and l1_ratio parameters\n",
      "  warnings.warn(\n"
     ]
    },
    {
     "name": "stdout",
     "output_type": "stream",
     "text": [
      "{'penalty': None, 'C': 10.24, 'solver': 'newton-cg', 'accuracy': 0.4802848032029453, 'precision': 0.4716356968378765, 'recall': 0.4803052853634047}\n"
     ]
    },
    {
     "name": "stderr",
     "output_type": "stream",
     "text": [
      "C:\\Users\\Mahmoud\\anaconda3\\lib\\site-packages\\sklearn\\linear_model\\_logistic.py:1181: UserWarning: Setting penalty=None will ignore the C and l1_ratio parameters\n",
      "  warnings.warn(\n",
      "C:\\Users\\Mahmoud\\anaconda3\\lib\\site-packages\\sklearn\\linear_model\\_logistic.py:1181: UserWarning: Setting penalty=None will ignore the C and l1_ratio parameters\n",
      "  warnings.warn(\n",
      "C:\\Users\\Mahmoud\\anaconda3\\lib\\site-packages\\sklearn\\linear_model\\_logistic.py:1181: UserWarning: Setting penalty=None will ignore the C and l1_ratio parameters\n",
      "  warnings.warn(\n",
      "C:\\Users\\Mahmoud\\anaconda3\\lib\\site-packages\\sklearn\\linear_model\\_logistic.py:1181: UserWarning: Setting penalty=None will ignore the C and l1_ratio parameters\n",
      "  warnings.warn(\n",
      "C:\\Users\\Mahmoud\\anaconda3\\lib\\site-packages\\sklearn\\linear_model\\_logistic.py:1181: UserWarning: Setting penalty=None will ignore the C and l1_ratio parameters\n",
      "  warnings.warn(\n"
     ]
    },
    {
     "name": "stdout",
     "output_type": "stream",
     "text": [
      "{'penalty': None, 'C': 10.24, 'solver': 'newton-cholesky', 'accuracy': 0.4799959339787591, 'precision': 0.4696405408282721, 'recall': 0.48001968385635596}\n"
     ]
    },
    {
     "name": "stderr",
     "output_type": "stream",
     "text": [
      "C:\\Users\\Mahmoud\\anaconda3\\lib\\site-packages\\sklearn\\linear_model\\_logistic.py:1181: UserWarning: Setting penalty=None will ignore the C and l1_ratio parameters\n",
      "  warnings.warn(\n",
      "C:\\Users\\Mahmoud\\anaconda3\\lib\\site-packages\\sklearn\\linear_model\\_logistic.py:1181: UserWarning: Setting penalty=None will ignore the C and l1_ratio parameters\n",
      "  warnings.warn(\n",
      "C:\\Users\\Mahmoud\\anaconda3\\lib\\site-packages\\sklearn\\linear_model\\_logistic.py:1181: UserWarning: Setting penalty=None will ignore the C and l1_ratio parameters\n",
      "  warnings.warn(\n",
      "C:\\Users\\Mahmoud\\anaconda3\\lib\\site-packages\\sklearn\\linear_model\\_logistic.py:1181: UserWarning: Setting penalty=None will ignore the C and l1_ratio parameters\n",
      "  warnings.warn(\n",
      "C:\\Users\\Mahmoud\\anaconda3\\lib\\site-packages\\sklearn\\linear_model\\_logistic.py:1181: UserWarning: Setting penalty=None will ignore the C and l1_ratio parameters\n",
      "  warnings.warn(\n"
     ]
    },
    {
     "name": "stdout",
     "output_type": "stream",
     "text": [
      "{'penalty': None, 'C': 10.24, 'solver': 'sag', 'accuracy': 0.4804097178120991, 'precision': 0.4717514124610691, 'recall': 0.4804302170413933}\n"
     ]
    },
    {
     "name": "stderr",
     "output_type": "stream",
     "text": [
      "C:\\Users\\Mahmoud\\anaconda3\\lib\\site-packages\\sklearn\\linear_model\\_logistic.py:1181: UserWarning: Setting penalty=None will ignore the C and l1_ratio parameters\n",
      "  warnings.warn(\n",
      "C:\\Users\\Mahmoud\\anaconda3\\lib\\site-packages\\sklearn\\linear_model\\_logistic.py:1181: UserWarning: Setting penalty=None will ignore the C and l1_ratio parameters\n",
      "  warnings.warn(\n",
      "C:\\Users\\Mahmoud\\anaconda3\\lib\\site-packages\\sklearn\\linear_model\\_logistic.py:1181: UserWarning: Setting penalty=None will ignore the C and l1_ratio parameters\n",
      "  warnings.warn(\n",
      "C:\\Users\\Mahmoud\\anaconda3\\lib\\site-packages\\sklearn\\linear_model\\_logistic.py:1181: UserWarning: Setting penalty=None will ignore the C and l1_ratio parameters\n",
      "  warnings.warn(\n",
      "C:\\Users\\Mahmoud\\anaconda3\\lib\\site-packages\\sklearn\\linear_model\\_logistic.py:1181: UserWarning: Setting penalty=None will ignore the C and l1_ratio parameters\n",
      "  warnings.warn(\n"
     ]
    },
    {
     "name": "stdout",
     "output_type": "stream",
     "text": [
      "{'penalty': None, 'C': 10.24, 'solver': 'saga', 'accuracy': 0.4802848029743716, 'precision': 0.47163136144131956, 'recall': 0.4803052876487849}\n",
      "{'penalty': 'l2', 'C': 0.001, 'solver': 'lbfgs', 'accuracy': 0.4808781543012546, 'precision': 0.47218551333435677, 'recall': 0.48089875015114253}\n",
      "{'penalty': 'l2', 'C': 0.001, 'solver': 'liblinear', 'accuracy': 0.48006619593209754, 'precision': 0.46971841997032415, 'recall': 0.4800901830721063}\n"
     ]
    },
    {
     "name": "stderr",
     "output_type": "stream",
     "text": [
      "C:\\Users\\Mahmoud\\anaconda3\\lib\\site-packages\\scipy\\optimize\\_linesearch.py:306: LineSearchWarning: The line search algorithm did not converge\n",
      "  warn('The line search algorithm did not converge', LineSearchWarning)\n",
      "C:\\Users\\Mahmoud\\anaconda3\\lib\\site-packages\\sklearn\\utils\\optimize.py:203: UserWarning: Line Search failed\n",
      "  warnings.warn(\"Line Search failed\")\n"
     ]
    },
    {
     "name": "stdout",
     "output_type": "stream",
     "text": [
      "{'penalty': 'l2', 'C': 0.001, 'solver': 'newton-cg', 'accuracy': 0.4808898651982452, 'precision': 0.4721973939232377, 'recall': 0.48091046181009905}\n",
      "{'penalty': 'l2', 'C': 0.001, 'solver': 'newton-cholesky', 'accuracy': 0.47975391253305333, 'precision': 0.46946074158415535, 'recall': 0.47977764975074455}\n",
      "{'penalty': 'l2', 'C': 0.001, 'solver': 'sag', 'accuracy': 0.48087425079590973, 'precision': 0.4721809994955687, 'recall': 0.48089484740751376}\n",
      "{'penalty': 'l2', 'C': 0.001, 'solver': 'saga', 'accuracy': 0.48088205788279065, 'precision': 0.47219072511603316, 'recall': 0.4809026551801514}\n",
      "{'penalty': 'l2', 'C': 0.01, 'solver': 'lbfgs', 'accuracy': 0.4805619590158301, 'precision': 0.4718886437143759, 'recall': 0.48058248301104933}\n",
      "{'penalty': 'l2', 'C': 0.01, 'solver': 'liblinear', 'accuracy': 0.480003740075154, 'precision': 0.46964561709825137, 'recall': 0.48002751791407705}\n"
     ]
    },
    {
     "name": "stderr",
     "output_type": "stream",
     "text": [
      "C:\\Users\\Mahmoud\\anaconda3\\lib\\site-packages\\scipy\\optimize\\_linesearch.py:306: LineSearchWarning: The line search algorithm did not converge\n",
      "  warn('The line search algorithm did not converge', LineSearchWarning)\n",
      "C:\\Users\\Mahmoud\\anaconda3\\lib\\site-packages\\sklearn\\utils\\optimize.py:203: UserWarning: Line Search failed\n",
      "  warnings.warn(\"Line Search failed\")\n",
      "C:\\Users\\Mahmoud\\anaconda3\\lib\\site-packages\\scipy\\optimize\\_linesearch.py:416: LineSearchWarning: Rounding errors prevent the line search from converging\n",
      "  warn(msg, LineSearchWarning)\n",
      "C:\\Users\\Mahmoud\\anaconda3\\lib\\site-packages\\scipy\\optimize\\_linesearch.py:306: LineSearchWarning: The line search algorithm did not converge\n",
      "  warn('The line search algorithm did not converge', LineSearchWarning)\n",
      "C:\\Users\\Mahmoud\\anaconda3\\lib\\site-packages\\sklearn\\utils\\optimize.py:203: UserWarning: Line Search failed\n",
      "  warnings.warn(\"Line Search failed\")\n",
      "C:\\Users\\Mahmoud\\anaconda3\\lib\\site-packages\\scipy\\optimize\\_linesearch.py:306: LineSearchWarning: The line search algorithm did not converge\n",
      "  warn('The line search algorithm did not converge', LineSearchWarning)\n",
      "C:\\Users\\Mahmoud\\anaconda3\\lib\\site-packages\\sklearn\\utils\\optimize.py:203: UserWarning: Line Search failed\n",
      "  warnings.warn(\"Line Search failed\")\n"
     ]
    },
    {
     "name": "stdout",
     "output_type": "stream",
     "text": [
      "{'penalty': 'l2', 'C': 0.01, 'solver': 'newton-cg', 'accuracy': 0.48055415185275796, 'precision': 0.4718807559911677, 'recall': 0.4805746752384118}\n",
      "{'penalty': 'l2', 'C': 0.01, 'solver': 'newton-cholesky', 'accuracy': 0.4800310666697311, 'precision': 0.46967044554154896, 'recall': 0.48005482797474597}\n",
      "{'penalty': 'l2', 'C': 0.01, 'solver': 'sag', 'accuracy': 0.48055024827122195, 'precision': 0.471875871501498, 'recall': 0.48057077249478297}\n",
      "{'penalty': 'l2', 'C': 0.01, 'solver': 'saga', 'accuracy': 0.48055805551048536, 'precision': 0.47188473773200207, 'recall': 0.4805785791247306}\n",
      "{'penalty': 'l2', 'C': 0.02, 'solver': 'lbfgs', 'accuracy': 0.48052682640104943, 'precision': 0.47185770920696657, 'recall': 0.4805473398053125}\n",
      "{'penalty': 'l2', 'C': 0.02, 'solver': 'liblinear', 'accuracy': 0.4800310660602013, 'precision': 0.4696700156485064, 'recall': 0.48005484008950894}\n"
     ]
    },
    {
     "name": "stderr",
     "output_type": "stream",
     "text": [
      "C:\\Users\\Mahmoud\\anaconda3\\lib\\site-packages\\scipy\\optimize\\_linesearch.py:416: LineSearchWarning: Rounding errors prevent the line search from converging\n",
      "  warn(msg, LineSearchWarning)\n",
      "C:\\Users\\Mahmoud\\anaconda3\\lib\\site-packages\\scipy\\optimize\\_linesearch.py:306: LineSearchWarning: The line search algorithm did not converge\n",
      "  warn('The line search algorithm did not converge', LineSearchWarning)\n",
      "C:\\Users\\Mahmoud\\anaconda3\\lib\\site-packages\\sklearn\\utils\\optimize.py:203: UserWarning: Line Search failed\n",
      "  warnings.warn(\"Line Search failed\")\n",
      "C:\\Users\\Mahmoud\\anaconda3\\lib\\site-packages\\scipy\\optimize\\_linesearch.py:306: LineSearchWarning: The line search algorithm did not converge\n",
      "  warn('The line search algorithm did not converge', LineSearchWarning)\n",
      "C:\\Users\\Mahmoud\\anaconda3\\lib\\site-packages\\sklearn\\utils\\optimize.py:203: UserWarning: Line Search failed\n",
      "  warnings.warn(\"Line Search failed\")\n",
      "C:\\Users\\Mahmoud\\anaconda3\\lib\\site-packages\\scipy\\optimize\\_linesearch.py:306: LineSearchWarning: The line search algorithm did not converge\n",
      "  warn('The line search algorithm did not converge', LineSearchWarning)\n",
      "C:\\Users\\Mahmoud\\anaconda3\\lib\\site-packages\\sklearn\\utils\\optimize.py:203: UserWarning: Line Search failed\n",
      "  warnings.warn(\"Line Search failed\")\n"
     ]
    },
    {
     "name": "stdout",
     "output_type": "stream",
     "text": [
      "{'penalty': 'l2', 'C': 0.02, 'solver': 'newton-cg', 'accuracy': 0.48052292281951337, 'precision': 0.471852818402423, 'recall': 0.4805434370616837}\n",
      "{'penalty': 'l2', 'C': 0.02, 'solver': 'newton-cholesky', 'accuracy': 0.48000764464717616, 'precision': 0.4696393627708778, 'recall': 0.4800314133419198}\n",
      "{'penalty': 'l2', 'C': 0.02, 'solver': 'sag', 'accuracy': 0.48052292281951337, 'precision': 0.4718537288773385, 'recall': 0.4805434359189936}\n",
      "{'penalty': 'l2', 'C': 0.02, 'solver': 'saga', 'accuracy': 0.4805190191617861, 'precision': 0.4718488100756268, 'recall': 0.48053953317536485}\n",
      "{'penalty': 'l2', 'C': 0.04, 'solver': 'lbfgs', 'accuracy': 0.4805307300587767, 'precision': 0.47185865327512533, 'recall': 0.4805512448343213}\n",
      "{'penalty': 'l2', 'C': 0.04, 'solver': 'liblinear', 'accuracy': 0.48003106621258373, 'precision': 0.469670198319381, 'recall': 0.48005482889042367}\n"
     ]
    },
    {
     "name": "stderr",
     "output_type": "stream",
     "text": [
      "C:\\Users\\Mahmoud\\anaconda3\\lib\\site-packages\\scipy\\optimize\\_linesearch.py:306: LineSearchWarning: The line search algorithm did not converge\n",
      "  warn('The line search algorithm did not converge', LineSearchWarning)\n",
      "C:\\Users\\Mahmoud\\anaconda3\\lib\\site-packages\\sklearn\\utils\\optimize.py:203: UserWarning: Line Search failed\n",
      "  warnings.warn(\"Line Search failed\")\n",
      "C:\\Users\\Mahmoud\\anaconda3\\lib\\site-packages\\scipy\\optimize\\_linesearch.py:416: LineSearchWarning: Rounding errors prevent the line search from converging\n",
      "  warn(msg, LineSearchWarning)\n",
      "C:\\Users\\Mahmoud\\anaconda3\\lib\\site-packages\\scipy\\optimize\\_linesearch.py:306: LineSearchWarning: The line search algorithm did not converge\n",
      "  warn('The line search algorithm did not converge', LineSearchWarning)\n",
      "C:\\Users\\Mahmoud\\anaconda3\\lib\\site-packages\\sklearn\\utils\\optimize.py:203: UserWarning: Line Search failed\n",
      "  warnings.warn(\"Line Search failed\")\n",
      "C:\\Users\\Mahmoud\\anaconda3\\lib\\site-packages\\scipy\\optimize\\_linesearch.py:306: LineSearchWarning: The line search algorithm did not converge\n",
      "  warn('The line search algorithm did not converge', LineSearchWarning)\n",
      "C:\\Users\\Mahmoud\\anaconda3\\lib\\site-packages\\sklearn\\utils\\optimize.py:203: UserWarning: Line Search failed\n",
      "  warnings.warn(\"Line Search failed\")\n"
     ]
    },
    {
     "name": "stdout",
     "output_type": "stream",
     "text": [
      "{'penalty': 'l2', 'C': 0.04, 'solver': 'newton-cg', 'accuracy': 0.4805307300587767, 'precision': 0.47185865327512533, 'recall': 0.4805512448343213}\n",
      "{'penalty': 'l2', 'C': 0.04, 'solver': 'newton-cholesky', 'accuracy': 0.4800271626310476, 'precision': 0.4696705233385285, 'recall': 0.48005091677585304}\n",
      "{'penalty': 'l2', 'C': 0.04, 'solver': 'sag', 'accuracy': 0.4805229228957046, 'precision': 0.4718503659217836, 'recall': 0.48054343820437373}\n",
      "{'penalty': 'l2', 'C': 0.04, 'solver': 'saga', 'accuracy': 0.4805307300587767, 'precision': 0.47185865327512533, 'recall': 0.4805512448343213}\n",
      "{'penalty': 'l2', 'C': 0.08, 'solver': 'lbfgs', 'accuracy': 0.48048779066187997, 'precision': 0.47181676010589013, 'recall': 0.4805083036839378}\n",
      "{'penalty': 'l2', 'C': 0.08, 'solver': 'liblinear', 'accuracy': 0.4800232591257029, 'precision': 0.46966653465991837, 'recall': 0.48004701174684417}\n"
     ]
    },
    {
     "name": "stderr",
     "output_type": "stream",
     "text": [
      "C:\\Users\\Mahmoud\\anaconda3\\lib\\site-packages\\scipy\\optimize\\_linesearch.py:306: LineSearchWarning: The line search algorithm did not converge\n",
      "  warn('The line search algorithm did not converge', LineSearchWarning)\n",
      "C:\\Users\\Mahmoud\\anaconda3\\lib\\site-packages\\sklearn\\utils\\optimize.py:203: UserWarning: Line Search failed\n",
      "  warnings.warn(\"Line Search failed\")\n"
     ]
    },
    {
     "name": "stdout",
     "output_type": "stream",
     "text": [
      "{'penalty': 'l2', 'C': 0.08, 'solver': 'newton-cg', 'accuracy': 0.48050730849336903, 'precision': 0.4718325227940191, 'recall': 0.48052782494447854}\n",
      "{'penalty': 'l2', 'C': 0.08, 'solver': 'newton-cholesky', 'accuracy': 0.4800154518102483, 'precision': 0.4696532716328585, 'recall': 0.48003920854496684}\n",
      "{'penalty': 'l2', 'C': 0.08, 'solver': 'sag', 'accuracy': 0.48050730856956025, 'precision': 0.4718318347533751, 'recall': 0.48052782608716865}\n",
      "{'penalty': 'l2', 'C': 0.08, 'solver': 'saga', 'accuracy': 0.4805112120749051, 'precision': 0.4718365026053931, 'recall': 0.48053172883079737}\n",
      "{'penalty': 'l2', 'C': 0.16, 'solver': 'lbfgs', 'accuracy': 0.4803550674420206, 'precision': 0.47169516402410866, 'recall': 0.4803755628603435}\n",
      "{'penalty': 'l2', 'C': 0.16, 'solver': 'liblinear', 'accuracy': 0.4800037412942138, 'precision': 0.4696518791772113, 'recall': 0.48002748934361356}\n",
      "{'penalty': 'l2', 'C': 0.16, 'solver': 'newton-cg', 'accuracy': 0.48046827260181724, 'precision': 0.47179535636127473, 'recall': 0.4804887865377238}\n",
      "{'penalty': 'l2', 'C': 0.16, 'solver': 'newton-cholesky', 'accuracy': 0.4800154518102483, 'precision': 0.4696527929327604, 'recall': 0.48003920854496684}\n",
      "{'penalty': 'l2', 'C': 0.16, 'solver': 'sag', 'accuracy': 0.4804214296233845, 'precision': 0.4717523854762987, 'recall': 0.4804419367012415}\n",
      "{'penalty': 'l2', 'C': 0.16, 'solver': 'saga', 'accuracy': 0.4804058140019894, 'precision': 0.4717420858984259, 'recall': 0.4804263165831447}\n",
      "{'penalty': 'l2', 'C': 0.32, 'solver': 'lbfgs', 'accuracy': 0.4803511638604846, 'precision': 0.4716947797016691, 'recall': 0.4803716578313346}\n",
      "{'penalty': 'l2', 'C': 0.32, 'solver': 'liblinear', 'accuracy': 0.47998031957642373, 'precision': 0.46962125742693583, 'recall': 0.48000407288184094}\n"
     ]
    },
    {
     "name": "stderr",
     "output_type": "stream",
     "text": [
      "C:\\Users\\Mahmoud\\anaconda3\\lib\\site-packages\\scipy\\optimize\\_linesearch.py:306: LineSearchWarning: The line search algorithm did not converge\n",
      "  warn('The line search algorithm did not converge', LineSearchWarning)\n",
      "C:\\Users\\Mahmoud\\anaconda3\\lib\\site-packages\\sklearn\\utils\\optimize.py:203: UserWarning: Line Search failed\n",
      "  warnings.warn(\"Line Search failed\")\n",
      "C:\\Users\\Mahmoud\\anaconda3\\lib\\site-packages\\scipy\\optimize\\_linesearch.py:306: LineSearchWarning: The line search algorithm did not converge\n",
      "  warn('The line search algorithm did not converge', LineSearchWarning)\n",
      "C:\\Users\\Mahmoud\\anaconda3\\lib\\site-packages\\sklearn\\utils\\optimize.py:203: UserWarning: Line Search failed\n",
      "  warnings.warn(\"Line Search failed\")\n"
     ]
    },
    {
     "name": "stdout",
     "output_type": "stream",
     "text": [
      "{'penalty': 'l2', 'C': 0.32, 'solver': 'newton-cg', 'accuracy': 0.48027309222976344, 'precision': 0.47161848365348896, 'recall': 0.48029357713251847}\n",
      "{'penalty': 'l2', 'C': 0.32, 'solver': 'newton-cholesky', 'accuracy': 0.48002716263104767, 'precision': 0.46966775596457583, 'recall': 0.48005091677585315}\n",
      "{'penalty': 'l2', 'C': 0.32, 'solver': 'sag', 'accuracy': 0.4802848030505628, 'precision': 0.4716313202154203, 'recall': 0.4803052876487849}\n",
      "{'penalty': 'l2', 'C': 0.32, 'solver': 'saga', 'accuracy': 0.4803355496105316, 'precision': 0.4716782087758567, 'recall': 0.48035604137158605}\n",
      "{'penalty': 'l2', 'C': 0.64, 'solver': 'lbfgs', 'accuracy': 0.4803511638604846, 'precision': 0.4716947797016691, 'recall': 0.4803716578313346}\n",
      "{'penalty': 'l2', 'C': 0.64, 'solver': 'liblinear', 'accuracy': 0.47998031957642373, 'precision': 0.4696211204698718, 'recall': 0.48000407288184094}\n",
      "{'penalty': 'l2', 'C': 0.64, 'solver': 'newton-cg', 'accuracy': 0.4803199361224909, 'precision': 0.47166355602995935, 'recall': 0.48034042765555185}\n",
      "{'penalty': 'l2', 'C': 0.64, 'solver': 'newton-cholesky', 'accuracy': 0.48002716263104767, 'precision': 0.46966775596457583, 'recall': 0.48005091677585315}\n",
      "{'penalty': 'l2', 'C': 0.64, 'solver': 'sag', 'accuracy': 0.4803667784152025, 'precision': 0.47171147353636644, 'recall': 0.4803872722339199}\n",
      "{'penalty': 'l2', 'C': 0.64, 'solver': 'saga', 'accuracy': 0.4802457663970987, 'precision': 0.4715978108644402, 'recall': 0.48026624375569915}\n",
      "{'penalty': 'l2', 'C': 1.28, 'solver': 'lbfgs', 'accuracy': 0.48034726027894853, 'precision': 0.471690839465032, 'recall': 0.4803677539450158}\n",
      "{'penalty': 'l2', 'C': 1.28, 'solver': 'liblinear', 'accuracy': 0.4799842231579598, 'precision': 0.46962544066793493, 'recall': 0.48000797562546965}\n"
     ]
    },
    {
     "name": "stderr",
     "output_type": "stream",
     "text": [
      "C:\\Users\\Mahmoud\\anaconda3\\lib\\site-packages\\scipy\\optimize\\_linesearch.py:306: LineSearchWarning: The line search algorithm did not converge\n",
      "  warn('The line search algorithm did not converge', LineSearchWarning)\n",
      "C:\\Users\\Mahmoud\\anaconda3\\lib\\site-packages\\sklearn\\utils\\optimize.py:203: UserWarning: Line Search failed\n",
      "  warnings.warn(\"Line Search failed\")\n"
     ]
    },
    {
     "name": "stdout",
     "output_type": "stream",
     "text": [
      "{'penalty': 'l2', 'C': 1.28, 'solver': 'newton-cg', 'accuracy': 0.4802848032029453, 'precision': 0.4716356968378765, 'recall': 0.4803052853634047}\n",
      "{'penalty': 'l2', 'C': 1.28, 'solver': 'newton-cholesky', 'accuracy': 0.4799959339787591, 'precision': 0.4696405408282721, 'recall': 0.48001968385635596}\n",
      "{'penalty': 'l2', 'C': 1.28, 'solver': 'sag', 'accuracy': 0.4802887066320989, 'precision': 0.47163874925739224, 'recall': 0.4803091903924136}\n",
      "{'penalty': 'l2', 'C': 1.28, 'solver': 'saga', 'accuracy': 0.4802848030505628, 'precision': 0.4716339784358393, 'recall': 0.4803052876487849}\n",
      "{'penalty': 'l2', 'C': 2.56, 'solver': 'lbfgs', 'accuracy': 0.48034726027894853, 'precision': 0.471690839465032, 'recall': 0.4803677539450158}\n",
      "{'penalty': 'l2', 'C': 2.56, 'solver': 'liblinear', 'accuracy': 0.4799842231579598, 'precision': 0.46962544066793493, 'recall': 0.48000797562546965}\n"
     ]
    },
    {
     "name": "stderr",
     "output_type": "stream",
     "text": [
      "C:\\Users\\Mahmoud\\anaconda3\\lib\\site-packages\\scipy\\optimize\\_linesearch.py:306: LineSearchWarning: The line search algorithm did not converge\n",
      "  warn('The line search algorithm did not converge', LineSearchWarning)\n",
      "C:\\Users\\Mahmoud\\anaconda3\\lib\\site-packages\\sklearn\\utils\\optimize.py:203: UserWarning: Line Search failed\n",
      "  warnings.warn(\"Line Search failed\")\n"
     ]
    },
    {
     "name": "stdout",
     "output_type": "stream",
     "text": [
      "{'penalty': 'l2', 'C': 2.56, 'solver': 'newton-cg', 'accuracy': 0.4802848032029453, 'precision': 0.4716356968378765, 'recall': 0.4803052853634047}\n",
      "{'penalty': 'l2', 'C': 2.56, 'solver': 'newton-cholesky', 'accuracy': 0.4799959339787591, 'precision': 0.4696405408282721, 'recall': 0.48001968385635596}\n",
      "{'penalty': 'l2', 'C': 2.56, 'solver': 'sag', 'accuracy': 0.48034335799266337, 'precision': 0.4716823528379727, 'recall': 0.48036385485973526}\n",
      "{'penalty': 'l2', 'C': 2.56, 'solver': 'saga', 'accuracy': 0.48024186296794513, 'precision': 0.4715955376920345, 'recall': 0.48026233758400017}\n",
      "{'penalty': 'l2', 'C': 5.12, 'solver': 'lbfgs', 'accuracy': 0.48034335669741246, 'precision': 0.47168689300303424, 'recall': 0.480363850058697}\n",
      "{'penalty': 'l2', 'C': 5.12, 'solver': 'liblinear', 'accuracy': 0.4799842231579598, 'precision': 0.46962544066793493, 'recall': 0.48000797562546965}\n"
     ]
    },
    {
     "name": "stderr",
     "output_type": "stream",
     "text": [
      "C:\\Users\\Mahmoud\\anaconda3\\lib\\site-packages\\scipy\\optimize\\_linesearch.py:306: LineSearchWarning: The line search algorithm did not converge\n",
      "  warn('The line search algorithm did not converge', LineSearchWarning)\n",
      "C:\\Users\\Mahmoud\\anaconda3\\lib\\site-packages\\sklearn\\utils\\optimize.py:203: UserWarning: Line Search failed\n",
      "  warnings.warn(\"Line Search failed\")\n"
     ]
    },
    {
     "name": "stdout",
     "output_type": "stream",
     "text": [
      "{'penalty': 'l2', 'C': 5.12, 'solver': 'newton-cg', 'accuracy': 0.4802848032029453, 'precision': 0.4716356968378765, 'recall': 0.4803052853634047}\n",
      "{'penalty': 'l2', 'C': 5.12, 'solver': 'newton-cholesky', 'accuracy': 0.4799959339787591, 'precision': 0.4696405408282721, 'recall': 0.48001968385635596}\n",
      "{'penalty': 'l2', 'C': 5.12, 'solver': 'sag', 'accuracy': 0.4805619602348898, 'precision': 0.47188622091282584, 'recall': 0.4805824862120004}\n",
      "{'penalty': 'l2', 'C': 5.12, 'solver': 'saga', 'accuracy': 0.4802926103660174, 'precision': 0.47164271491569004, 'recall': 0.4803130942787325}\n",
      "{'penalty': 'l2', 'C': 10.24, 'solver': 'lbfgs', 'accuracy': 0.48034335669741246, 'precision': 0.47168689300303424, 'recall': 0.480363850058697}\n",
      "{'penalty': 'l2', 'C': 10.24, 'solver': 'liblinear', 'accuracy': 0.4799842231579598, 'precision': 0.46962544066793493, 'recall': 0.48000797562546965}\n",
      "{'penalty': 'l2', 'C': 10.24, 'solver': 'newton-cg', 'accuracy': 0.4802848032029453, 'precision': 0.4716356968378765, 'recall': 0.4803052853634047}\n",
      "{'penalty': 'l2', 'C': 10.24, 'solver': 'newton-cholesky', 'accuracy': 0.4799959339787591, 'precision': 0.4696405408282721, 'recall': 0.48001968385635596}\n",
      "{'penalty': 'l2', 'C': 10.24, 'solver': 'sag', 'accuracy': 0.48025747729408935, 'precision': 0.4716097339398261, 'recall': 0.48027795198658546}\n",
      "{'penalty': 'l2', 'C': 10.24, 'solver': 'saga', 'accuracy': 0.48030041752908953, 'precision': 0.47165151162811636, 'recall': 0.48032090090868007}\n"
     ]
    }
   ],
   "source": [
    "# We try different parameters and apply K-folding on them. Our evaluation metrices will be accuracy, precision, and recall.\n",
    "# We weren't able to apply ROC, as it's a multi-class output, and having 1v2 roc isn't the best metric. \n",
    "# We store the results to choose the best one later.\n",
    "# This is the linear one.\n",
    "\n",
    "penalty_options = ['l1',None, 'l2']\n",
    "C_values = [0.001, 0.01, 0.02, 0.04, 0.08, 0.16, 0.32, 0.64, 1.28, 2.56, 5.12, 10.24]\n",
    "solver_options = {\n",
    "    'lbfgs': ['l2', None],\n",
    "    'liblinear': ['l1', 'l2'],\n",
    "    'newton-cg': ['l2', None],\n",
    "    'newton-cholesky': ['l2', None],\n",
    "    'sag': ['l2', None],\n",
    "    'saga': ['elasticnet', 'l1', 'l2', None]\n",
    "}\n",
    "results = []\n",
    "warnings.filterwarnings(\"ignore\", category=ConvergenceWarning)\n",
    "\n",
    "for penalty in penalty_options:\n",
    "    for C in C_values:\n",
    "        for solver in solver_options.keys():\n",
    "            if penalty in solver_options[solver]:\n",
    "                accuracy_scores = []\n",
    "                precision_scores = []\n",
    "                recall_scores = []\n",
    "\n",
    "                kf = StratifiedKFold(n_splits=5, random_state=10, shuffle=True)\n",
    "\n",
    "                for train_index, test_index in kf.split(x, y):\n",
    "                    X_train_fold, X_cross = x.iloc[train_index], x.iloc[test_index]\n",
    "                    y_train_fold, y_cross = y.iloc[train_index], y.iloc[test_index]\n",
    "                    \n",
    "                    logistic_model = LogisticRegression(penalty=penalty, C=C, solver=solver, max_iter=100)\n",
    "                    logistic_model.fit(X_train_fold, y_train_fold)\n",
    "                    y_pred = logistic_model.predict(X_cross)\n",
    "\n",
    "                    accuracy = accuracy_score(y_cross, y_pred)\n",
    "                    precision = precision_score(y_cross, y_pred, average='macro', zero_division=0)\n",
    "                    recall = recall_score(y_cross, y_pred, average='macro')\n",
    "\n",
    "                    accuracy_scores.append(accuracy)\n",
    "                    precision_scores.append(precision)\n",
    "                    recall_scores.append(recall)\n",
    "\n",
    "                this_result = {\n",
    "                    'penalty': penalty,\n",
    "                    'C': C,\n",
    "                    'solver': solver,\n",
    "                    'accuracy': np.mean(accuracy_scores),\n",
    "                    'precision': np.mean(precision_scores),\n",
    "                    'recall': np.mean(recall_scores)\n",
    "                }\n",
    "                results.append(this_result)\n",
    "                print(this_result)\n"
   ]
  },
  {
   "cell_type": "code",
   "execution_count": 14,
   "id": "335a860c",
   "metadata": {},
   "outputs": [
    {
     "name": "stdout",
     "output_type": "stream",
     "text": [
      "{'penalty': 'l2', 'C': 0.001, 'solver': 'newton-cg', 'accuracy': 0.4808898651982452, 'precision': 0.4721973939232377, 'recall': 0.48091046181009905}\n"
     ]
    }
   ],
   "source": [
    "# We favor precision and recall over accuracy ; however, we still take accuracy into consideration. \n",
    "# So we take the top 10 accuracy scores passing the average precision and recall values.\n",
    "# After this we, take the top 5 of them based on precision. Then we take the one having the maximum recall.\n",
    "\n",
    "precision_values = [result['precision'] for result in results]\n",
    "all_models_average_precision_scores = np.mean(precision_values)\n",
    "\n",
    "recall_values = [result['recall'] for result in results]\n",
    "all_models_average_recall_scores = np.mean(recall_values)\n",
    "\n",
    "filtered_results = []\n",
    "for result in results:\n",
    "    if result['precision'] >= all_models_average_precision_scores and result['recall'] >= all_models_average_recall_scores :\n",
    "        filtered_results.append(result)\n",
    "        \n",
    "top_10_results = sorted(filtered_results, key=lambda x: x['accuracy'], reverse=True)[:10]\n",
    "\n",
    "precision_values = [result['precision'] for result in top_10_results]\n",
    "top_10_results_average_precision_scores = np.mean(precision_values)\n",
    "\n",
    "\n",
    "filtered_results_2 = []\n",
    "for result in top_10_results:\n",
    "    if result['precision'] >= top_10_results_average_precision_scores:\n",
    "        filtered_results_2.append(result)\n",
    "top_5_results = sorted(filtered_results_2, key=lambda x: x['precision'], reverse=True)[:5]\n",
    "\n",
    "best_model_1 = max(top_5_results, key=lambda x: x['recall'])\n",
    "\n",
    "print(best_model_1)"
   ]
  },
  {
   "cell_type": "code",
   "execution_count": 16,
   "id": "a8b0f217",
   "metadata": {},
   "outputs": [
    {
     "name": "stdout",
     "output_type": "stream",
     "text": [
      "{'penalty': 'l1', 'C': 0.001, 'solver': 'liblinear', 'accuracy': 0.4965628554666174, 'precision': 0.4850331298520678, 'recall': 0.4965884756630777}\n",
      "{'penalty': 'l1', 'C': 0.001, 'solver': 'saga', 'accuracy': 0.4960983256828385, 'precision': 0.4863139564034234, 'recall': 0.49612051884594405}\n",
      "{'penalty': 'l1', 'C': 0.01, 'solver': 'liblinear', 'accuracy': 0.5036479120313112, 'precision': 0.4925271514221919, 'recall': 0.5036724848137919}\n",
      "{'penalty': 'l1', 'C': 0.01, 'solver': 'saga', 'accuracy': 0.5024494997758053, 'precision': 0.49198789172499335, 'recall': 0.5024728340782166}\n",
      "{'penalty': 'l1', 'C': 0.02, 'solver': 'liblinear', 'accuracy': 0.5042568797415018, 'precision': 0.49317626903345263, 'recall': 0.50428141909731}\n",
      "{'penalty': 'l1', 'C': 0.02, 'solver': 'saga', 'accuracy': 0.5030155298414976, 'precision': 0.49255395073133157, 'recall': 0.5030388964747246}\n",
      "{'penalty': 'l1', 'C': 0.04, 'solver': 'liblinear', 'accuracy': 0.5052054532547958, 'precision': 0.49408138015092185, 'recall': 0.5052301002879366}\n",
      "{'penalty': 'l1', 'C': 0.04, 'solver': 'saga', 'accuracy': 0.5030818879847263, 'precision': 0.49268316414866115, 'recall': 0.5031051996949674}\n",
      "{'penalty': 'l1', 'C': 0.08, 'solver': 'liblinear', 'accuracy': 0.5057480591645785, 'precision': 0.4946105748266928, 'recall': 0.5057727217547029}\n",
      "{'penalty': 'l1', 'C': 0.08, 'solver': 'saga', 'accuracy': 0.5028984172906033, 'precision': 0.4925244744449978, 'recall': 0.5029217014930343}\n",
      "{'penalty': 'l1', 'C': 0.16, 'solver': 'liblinear', 'accuracy': 0.5061540325586236, 'precision': 0.4950235437570586, 'recall': 0.5061787154220034}\n",
      "{'penalty': 'l1', 'C': 0.16, 'solver': 'saga', 'accuracy': 0.5029999115534094, 'precision': 0.49265521529493217, 'recall': 0.5030231870000583}\n",
      "{'penalty': 'l1', 'C': 0.32, 'solver': 'liblinear', 'accuracy': 0.5063335989854894, 'precision': 0.4951384724878055, 'recall': 0.5063583383101693}\n",
      "{'penalty': 'l1', 'C': 0.32, 'solver': 'saga', 'accuracy': 0.5030584652764503, 'precision': 0.49272476394936654, 'recall': 0.5030817455266178}\n"
     ]
    },
    {
     "ename": "KeyboardInterrupt",
     "evalue": "",
     "output_type": "error",
     "traceback": [
      "\u001b[1;31m---------------------------------------------------------------------------\u001b[0m",
      "\u001b[1;31mKeyboardInterrupt\u001b[0m                         Traceback (most recent call last)",
      "Cell \u001b[1;32mIn[16], line 32\u001b[0m\n\u001b[0;32m     29\u001b[0m y_train_fold, y_cross \u001b[38;5;241m=\u001b[39m y\u001b[38;5;241m.\u001b[39miloc[train_index], y\u001b[38;5;241m.\u001b[39miloc[test_index]\n\u001b[0;32m     31\u001b[0m logistic_model \u001b[38;5;241m=\u001b[39m LogisticRegression(penalty\u001b[38;5;241m=\u001b[39mpenalty, C\u001b[38;5;241m=\u001b[39mC, solver\u001b[38;5;241m=\u001b[39msolver, max_iter\u001b[38;5;241m=\u001b[39m\u001b[38;5;241m100\u001b[39m, class_weight\u001b[38;5;241m=\u001b[39mclass_weight_dictionary)\n\u001b[1;32m---> 32\u001b[0m \u001b[43mlogistic_model\u001b[49m\u001b[38;5;241;43m.\u001b[39;49m\u001b[43mfit\u001b[49m\u001b[43m(\u001b[49m\u001b[43mX_train_fold\u001b[49m\u001b[43m,\u001b[49m\u001b[43m \u001b[49m\u001b[43my_train_fold\u001b[49m\u001b[43m)\u001b[49m\n\u001b[0;32m     33\u001b[0m y_pred \u001b[38;5;241m=\u001b[39m logistic_model\u001b[38;5;241m.\u001b[39mpredict(X_cross)\n\u001b[0;32m     35\u001b[0m accuracy \u001b[38;5;241m=\u001b[39m accuracy_score(y_cross, y_pred)\n",
      "File \u001b[1;32m~\\anaconda3\\lib\\site-packages\\sklearn\\linear_model\\_logistic.py:1216\u001b[0m, in \u001b[0;36mLogisticRegression.fit\u001b[1;34m(self, X, y, sample_weight)\u001b[0m\n\u001b[0;32m   1210\u001b[0m     \u001b[38;5;28;01mif\u001b[39;00m effective_n_jobs(\u001b[38;5;28mself\u001b[39m\u001b[38;5;241m.\u001b[39mn_jobs) \u001b[38;5;241m!=\u001b[39m \u001b[38;5;241m1\u001b[39m:\n\u001b[0;32m   1211\u001b[0m         warnings\u001b[38;5;241m.\u001b[39mwarn(\n\u001b[0;32m   1212\u001b[0m             \u001b[38;5;124m\"\u001b[39m\u001b[38;5;124m'\u001b[39m\u001b[38;5;124mn_jobs\u001b[39m\u001b[38;5;124m'\u001b[39m\u001b[38;5;124m > 1 does not have any effect when\u001b[39m\u001b[38;5;124m\"\u001b[39m\n\u001b[0;32m   1213\u001b[0m             \u001b[38;5;124m\"\u001b[39m\u001b[38;5;124m \u001b[39m\u001b[38;5;124m'\u001b[39m\u001b[38;5;124msolver\u001b[39m\u001b[38;5;124m'\u001b[39m\u001b[38;5;124m is set to \u001b[39m\u001b[38;5;124m'\u001b[39m\u001b[38;5;124mliblinear\u001b[39m\u001b[38;5;124m'\u001b[39m\u001b[38;5;124m. Got \u001b[39m\u001b[38;5;124m'\u001b[39m\u001b[38;5;124mn_jobs\u001b[39m\u001b[38;5;124m'\u001b[39m\u001b[38;5;124m\"\u001b[39m\n\u001b[0;32m   1214\u001b[0m             \u001b[38;5;124m\"\u001b[39m\u001b[38;5;124m = \u001b[39m\u001b[38;5;132;01m{}\u001b[39;00m\u001b[38;5;124m.\u001b[39m\u001b[38;5;124m\"\u001b[39m\u001b[38;5;241m.\u001b[39mformat(effective_n_jobs(\u001b[38;5;28mself\u001b[39m\u001b[38;5;241m.\u001b[39mn_jobs))\n\u001b[0;32m   1215\u001b[0m         )\n\u001b[1;32m-> 1216\u001b[0m     \u001b[38;5;28mself\u001b[39m\u001b[38;5;241m.\u001b[39mcoef_, \u001b[38;5;28mself\u001b[39m\u001b[38;5;241m.\u001b[39mintercept_, \u001b[38;5;28mself\u001b[39m\u001b[38;5;241m.\u001b[39mn_iter_ \u001b[38;5;241m=\u001b[39m \u001b[43m_fit_liblinear\u001b[49m\u001b[43m(\u001b[49m\n\u001b[0;32m   1217\u001b[0m \u001b[43m        \u001b[49m\u001b[43mX\u001b[49m\u001b[43m,\u001b[49m\n\u001b[0;32m   1218\u001b[0m \u001b[43m        \u001b[49m\u001b[43my\u001b[49m\u001b[43m,\u001b[49m\n\u001b[0;32m   1219\u001b[0m \u001b[43m        \u001b[49m\u001b[38;5;28;43mself\u001b[39;49m\u001b[38;5;241;43m.\u001b[39;49m\u001b[43mC\u001b[49m\u001b[43m,\u001b[49m\n\u001b[0;32m   1220\u001b[0m \u001b[43m        \u001b[49m\u001b[38;5;28;43mself\u001b[39;49m\u001b[38;5;241;43m.\u001b[39;49m\u001b[43mfit_intercept\u001b[49m\u001b[43m,\u001b[49m\n\u001b[0;32m   1221\u001b[0m \u001b[43m        \u001b[49m\u001b[38;5;28;43mself\u001b[39;49m\u001b[38;5;241;43m.\u001b[39;49m\u001b[43mintercept_scaling\u001b[49m\u001b[43m,\u001b[49m\n\u001b[0;32m   1222\u001b[0m \u001b[43m        \u001b[49m\u001b[38;5;28;43mself\u001b[39;49m\u001b[38;5;241;43m.\u001b[39;49m\u001b[43mclass_weight\u001b[49m\u001b[43m,\u001b[49m\n\u001b[0;32m   1223\u001b[0m \u001b[43m        \u001b[49m\u001b[38;5;28;43mself\u001b[39;49m\u001b[38;5;241;43m.\u001b[39;49m\u001b[43mpenalty\u001b[49m\u001b[43m,\u001b[49m\n\u001b[0;32m   1224\u001b[0m \u001b[43m        \u001b[49m\u001b[38;5;28;43mself\u001b[39;49m\u001b[38;5;241;43m.\u001b[39;49m\u001b[43mdual\u001b[49m\u001b[43m,\u001b[49m\n\u001b[0;32m   1225\u001b[0m \u001b[43m        \u001b[49m\u001b[38;5;28;43mself\u001b[39;49m\u001b[38;5;241;43m.\u001b[39;49m\u001b[43mverbose\u001b[49m\u001b[43m,\u001b[49m\n\u001b[0;32m   1226\u001b[0m \u001b[43m        \u001b[49m\u001b[38;5;28;43mself\u001b[39;49m\u001b[38;5;241;43m.\u001b[39;49m\u001b[43mmax_iter\u001b[49m\u001b[43m,\u001b[49m\n\u001b[0;32m   1227\u001b[0m \u001b[43m        \u001b[49m\u001b[38;5;28;43mself\u001b[39;49m\u001b[38;5;241;43m.\u001b[39;49m\u001b[43mtol\u001b[49m\u001b[43m,\u001b[49m\n\u001b[0;32m   1228\u001b[0m \u001b[43m        \u001b[49m\u001b[38;5;28;43mself\u001b[39;49m\u001b[38;5;241;43m.\u001b[39;49m\u001b[43mrandom_state\u001b[49m\u001b[43m,\u001b[49m\n\u001b[0;32m   1229\u001b[0m \u001b[43m        \u001b[49m\u001b[43msample_weight\u001b[49m\u001b[38;5;241;43m=\u001b[39;49m\u001b[43msample_weight\u001b[49m\u001b[43m,\u001b[49m\n\u001b[0;32m   1230\u001b[0m \u001b[43m    \u001b[49m\u001b[43m)\u001b[49m\n\u001b[0;32m   1231\u001b[0m     \u001b[38;5;28;01mreturn\u001b[39;00m \u001b[38;5;28mself\u001b[39m\n\u001b[0;32m   1233\u001b[0m \u001b[38;5;28;01mif\u001b[39;00m solver \u001b[38;5;129;01min\u001b[39;00m [\u001b[38;5;124m\"\u001b[39m\u001b[38;5;124msag\u001b[39m\u001b[38;5;124m\"\u001b[39m, \u001b[38;5;124m\"\u001b[39m\u001b[38;5;124msaga\u001b[39m\u001b[38;5;124m\"\u001b[39m]:\n",
      "File \u001b[1;32m~\\anaconda3\\lib\\site-packages\\sklearn\\svm\\_base.py:1224\u001b[0m, in \u001b[0;36m_fit_liblinear\u001b[1;34m(X, y, C, fit_intercept, intercept_scaling, class_weight, penalty, dual, verbose, max_iter, tol, random_state, multi_class, loss, epsilon, sample_weight)\u001b[0m\n\u001b[0;32m   1221\u001b[0m sample_weight \u001b[38;5;241m=\u001b[39m _check_sample_weight(sample_weight, X, dtype\u001b[38;5;241m=\u001b[39mnp\u001b[38;5;241m.\u001b[39mfloat64)\n\u001b[0;32m   1223\u001b[0m solver_type \u001b[38;5;241m=\u001b[39m _get_liblinear_solver_type(multi_class, penalty, loss, dual)\n\u001b[1;32m-> 1224\u001b[0m raw_coef_, n_iter_ \u001b[38;5;241m=\u001b[39m \u001b[43mliblinear\u001b[49m\u001b[38;5;241;43m.\u001b[39;49m\u001b[43mtrain_wrap\u001b[49m\u001b[43m(\u001b[49m\n\u001b[0;32m   1225\u001b[0m \u001b[43m    \u001b[49m\u001b[43mX\u001b[49m\u001b[43m,\u001b[49m\n\u001b[0;32m   1226\u001b[0m \u001b[43m    \u001b[49m\u001b[43my_ind\u001b[49m\u001b[43m,\u001b[49m\n\u001b[0;32m   1227\u001b[0m \u001b[43m    \u001b[49m\u001b[43msp\u001b[49m\u001b[38;5;241;43m.\u001b[39;49m\u001b[43misspmatrix\u001b[49m\u001b[43m(\u001b[49m\u001b[43mX\u001b[49m\u001b[43m)\u001b[49m\u001b[43m,\u001b[49m\n\u001b[0;32m   1228\u001b[0m \u001b[43m    \u001b[49m\u001b[43msolver_type\u001b[49m\u001b[43m,\u001b[49m\n\u001b[0;32m   1229\u001b[0m \u001b[43m    \u001b[49m\u001b[43mtol\u001b[49m\u001b[43m,\u001b[49m\n\u001b[0;32m   1230\u001b[0m \u001b[43m    \u001b[49m\u001b[43mbias\u001b[49m\u001b[43m,\u001b[49m\n\u001b[0;32m   1231\u001b[0m \u001b[43m    \u001b[49m\u001b[43mC\u001b[49m\u001b[43m,\u001b[49m\n\u001b[0;32m   1232\u001b[0m \u001b[43m    \u001b[49m\u001b[43mclass_weight_\u001b[49m\u001b[43m,\u001b[49m\n\u001b[0;32m   1233\u001b[0m \u001b[43m    \u001b[49m\u001b[43mmax_iter\u001b[49m\u001b[43m,\u001b[49m\n\u001b[0;32m   1234\u001b[0m \u001b[43m    \u001b[49m\u001b[43mrnd\u001b[49m\u001b[38;5;241;43m.\u001b[39;49m\u001b[43mrandint\u001b[49m\u001b[43m(\u001b[49m\u001b[43mnp\u001b[49m\u001b[38;5;241;43m.\u001b[39;49m\u001b[43miinfo\u001b[49m\u001b[43m(\u001b[49m\u001b[38;5;124;43m\"\u001b[39;49m\u001b[38;5;124;43mi\u001b[39;49m\u001b[38;5;124;43m\"\u001b[39;49m\u001b[43m)\u001b[49m\u001b[38;5;241;43m.\u001b[39;49m\u001b[43mmax\u001b[49m\u001b[43m)\u001b[49m\u001b[43m,\u001b[49m\n\u001b[0;32m   1235\u001b[0m \u001b[43m    \u001b[49m\u001b[43mepsilon\u001b[49m\u001b[43m,\u001b[49m\n\u001b[0;32m   1236\u001b[0m \u001b[43m    \u001b[49m\u001b[43msample_weight\u001b[49m\u001b[43m,\u001b[49m\n\u001b[0;32m   1237\u001b[0m \u001b[43m\u001b[49m\u001b[43m)\u001b[49m\n\u001b[0;32m   1238\u001b[0m \u001b[38;5;66;03m# Regarding rnd.randint(..) in the above signature:\u001b[39;00m\n\u001b[0;32m   1239\u001b[0m \u001b[38;5;66;03m# seed for srand in range [0..INT_MAX); due to limitations in Numpy\u001b[39;00m\n\u001b[0;32m   1240\u001b[0m \u001b[38;5;66;03m# on 32-bit platforms, we can't get to the UINT_MAX limit that\u001b[39;00m\n\u001b[0;32m   1241\u001b[0m \u001b[38;5;66;03m# srand supports\u001b[39;00m\n\u001b[0;32m   1242\u001b[0m n_iter_max \u001b[38;5;241m=\u001b[39m \u001b[38;5;28mmax\u001b[39m(n_iter_)\n",
      "\u001b[1;31mKeyboardInterrupt\u001b[0m: "
     ]
    }
   ],
   "source": [
    "# We try different parameters and apply K-folding on them. Our evaluation metrices will be accuracy, precision, and recall.\n",
    "# We weren't able to apply ROC, as it's a multi-class output, and having 1v2 roc isn't the best metric. \n",
    "# We store the results to choose the best one later.\n",
    "# This is the 2nd order one; however, we interrupted the kernel, as it was showing very slight improvement, and we already tried\n",
    "# this on weighting data in the other file, and got no improvement. It took there lots of time, so we didn't wanna go through the same thing.\n",
    "\n",
    "penalty_options = ['l1', None, 'l2']\n",
    "C_values = [0.001, 0.01, 0.02, 0.04, 0.08, 0.16, 0.32, 0.64, 1.28, 2.56, 5.12, 10.24]\n",
    "solver_options = {\n",
    "    'lbfgs': ['l2', None],\n",
    "    'liblinear': ['l1', 'l2'],\n",
    "    'newton-cg': ['l2', None],\n",
    "    'newton-cholesky': ['l2', None],\n",
    "    'sag': ['l2', None],\n",
    "    'saga': ['elasticnet', 'l1', 'l2', None]\n",
    "}\n",
    "results = []\n",
    "warnings.filterwarnings(\"ignore\", category=ConvergenceWarning)\n",
    "\n",
    "polynomial_transformer = PolynomialFeatures(degree=2)\n",
    "x_poly = polynomial_transformer.fit_transform(x)  \n",
    "\n",
    "for penalty in penalty_options:\n",
    "    for C in C_values:\n",
    "        for solver in solver_options.keys():\n",
    "            if penalty in solver_options[solver]:\n",
    "                accuracy_scores = []\n",
    "                precision_scores = []\n",
    "                recall_scores = []\n",
    "\n",
    "                kf = StratifiedKFold(n_splits=5, random_state=10, shuffle=True)\n",
    "\n",
    "                for train_index, test_index in kf.split(x_poly, y):  # Use the polynomial features (x_poly)\n",
    "                    X_train_fold, X_cross = x_poly[train_index], x_poly[test_index]\n",
    "                    y_train_fold, y_cross = y.iloc[train_index], y.iloc[test_index]\n",
    "\n",
    "                    logistic_model = LogisticRegression(penalty=penalty, C=C, solver=solver, max_iter=100, class_weight=class_weight_dictionary)\n",
    "                    logistic_model.fit(X_train_fold, y_train_fold)\n",
    "                    y_pred = logistic_model.predict(X_cross)\n",
    "\n",
    "                    accuracy = accuracy_score(y_cross, y_pred)\n",
    "                    precision = precision_score(y_cross, y_pred, average='macro', zero_division=0)\n",
    "                    recall = recall_score(y_cross, y_pred, average='macro')\n",
    "\n",
    "                    accuracy_scores.append(accuracy)\n",
    "                    precision_scores.append(precision)\n",
    "                    recall_scores.append(recall)\n",
    "\n",
    "                this_result = {\n",
    "                    'penalty': penalty,\n",
    "                    'C': C,\n",
    "                    'solver': solver,\n",
    "                    'accuracy': np.mean(accuracy_scores),\n",
    "                    'precision': np.mean(precision_scores),\n",
    "                    'recall': np.mean(recall_scores)\n",
    "                }\n",
    "                results.append(this_result)\n",
    "                print(this_result)\n"
   ]
  },
  {
   "cell_type": "code",
   "execution_count": 17,
   "id": "38e34e9e",
   "metadata": {},
   "outputs": [
    {
     "name": "stdout",
     "output_type": "stream",
     "text": [
      "{'penalty': 'l1', 'C': 0.32, 'solver': 'liblinear', 'accuracy': 0.5063335989854894, 'precision': 0.4951384724878055, 'recall': 0.5063583383101693}\n"
     ]
    }
   ],
   "source": [
    "# We favor precision and recall over accuracy ; however, we still take accuracy into consideration. \n",
    "# So we take the top 10 accuracy scores passing the average precision and recall values.\n",
    "# After this we, take the top 5 of them based on precision. Then we take the one having the maximum recall.\n",
    "\n",
    "precision_values = [result['precision'] for result in results]\n",
    "\n",
    "all_models_average_precision_scores = np.mean(precision_values)\n",
    "\n",
    "recall_values = [result['recall'] for result in results]\n",
    "all_models_average_recall_scores = np.mean(recall_values)\n",
    "\n",
    "filtered_results = []\n",
    "for result in results:\n",
    "    if result['precision'] >= all_models_average_precision_scores and result['recall'] >= all_models_average_recall_scores:\n",
    "        filtered_results.append(result)     \n",
    "top_10_results = sorted(filtered_results, key=lambda x: x['accuracy'], reverse=True)[:10]\n",
    "\n",
    "precision_values = [result['precision'] for result in top_10_results]\n",
    "top_10_results_average_precision_scores = np.mean(precision_values)\n",
    "\n",
    "\n",
    "filtered_results_2 = []\n",
    "for result in top_10_results:\n",
    "    if result['precision'] >= top_10_results_average_precision_scores:\n",
    "        filtered_results_2.append(result)\n",
    "top_5_results = sorted(filtered_results_2, key=lambda x: x['precision'], reverse=True)[:5]\n",
    "\n",
    "best_model_2 = max(top_5_results, key=lambda x: x['recall'])\n",
    "\n",
    "print(best_model_2)"
   ]
  },
  {
   "cell_type": "code",
   "execution_count": 18,
   "id": "efe1afab",
   "metadata": {
    "scrolled": true
   },
   "outputs": [
    {
     "name": "stdout",
     "output_type": "stream",
     "text": [
      "{'penalty': 'l2', 'C': 0.001, 'solver': 'newton-cg', 'accuracy': 0.4808898651982452, 'precision': 0.4721973939232377, 'recall': 0.48091046181009905}\n",
      "{'penalty': 'l1', 'C': 0.32, 'solver': 'liblinear', 'accuracy': 0.5063335989854894, 'precision': 0.4951384724878055, 'recall': 0.5063583383101693}\n"
     ]
    }
   ],
   "source": [
    "#Compare betwen the 2 models (2nd, and first order polynomial logistic regression models )\n",
    "\n",
    "print(best_model_1)\n",
    "print(best_model_2)\n"
   ]
  },
  {
   "cell_type": "code",
   "execution_count": 19,
   "id": "c6377f44",
   "metadata": {},
   "outputs": [
    {
     "name": "stdout",
     "output_type": "stream",
     "text": [
      "Testing Accuracy: 0.4825801313955803\n",
      "Testing Precision: 0.47362605679348485\n",
      "Testing Recall: 0.48246178167525694\n",
      "Confusion Matrix:\n",
      "True Fatal:  9416 False Serious:  3010 False Slight:  2656\n",
      "False Fatal:  5095 True Serious:  4638 False Slight:  5317\n",
      "False Fatal:  3518 False Serious:  3795 True Slight:  7762\n"
     ]
    }
   ],
   "source": [
    "# Create the final model with the best parameters\n",
    "\n",
    "# On trying lots of different parameters, the model always performs poorly.\n",
    "# Here is some suggestions that may improve the performance.\n",
    "# Logistic regression may be affected to outliers, as it's very sensitive to them so using a clustering algorithm to kick outliers, and grouping similar data.\n",
    "# Also trying different thresholds, adding/removing some features (domain knowledge), or trying even higher order models.\n",
    "# However, at this point I think moving to another algorithm is more efficient, as they already show way better results, and\n",
    "# this models is computationally expensive, and takes too long to train.\n",
    "\n",
    "final_logistic_model = LogisticRegression(penalty=best_model_1['penalty'], C=best_model_1['C'], solver=best_model_1['solver']\n",
    "                    , max_iter=5000, class_weight=class_weight_dictionary)\n",
    "\n",
    "final_logistic_model.fit(x,y)\n",
    "y_prediction = final_logistic_model.predict(x_testing)\n",
    "\n",
    "final_accuracy = accuracy_score(y_testing, y_prediction)\n",
    "final_precision = precision_score(y_testing, y_prediction, average='macro',zero_division=0)\n",
    "final_recall = recall_score(y_testing, y_prediction, average='macro')\n",
    "my_confusion_matrix = confusion_matrix(y_testing, y_prediction, labels=[0, 1, 2])\n",
    "\n",
    "print(\"Testing Accuracy:\", final_accuracy)\n",
    "print(\"Testing Precision:\", final_precision)\n",
    "print(\"Testing Recall:\", final_recall)\n",
    "\n",
    "print(\"Confusion Matrix:\")\n",
    "print(\"True Fatal: \" , my_confusion_matrix[0,0],  \"False Serious: \", my_confusion_matrix[0,1], \"False Slight: \",my_confusion_matrix[0,2] )\n",
    "print(\"False Fatal: \" , my_confusion_matrix[1,0],  \"True Serious: \", my_confusion_matrix[1,1], \"False Slight: \",my_confusion_matrix[1,2])\n",
    "print(\"False Fatal: \" , my_confusion_matrix[2,0],  \"False Serious: \", my_confusion_matrix[2,1], \"True Slight: \",my_confusion_matrix[2,2])\n",
    "\n",
    "\n",
    "# confusion matrix explanation (applies to more dimensions)\n",
    "#                  Predicted bird                         Predicted cat\n",
    "# Actual bird       True bird                               False Cat \n",
    "# Actual cat        False Bird                             True Cat  "
   ]
  },
  {
   "cell_type": "code",
   "execution_count": null,
   "id": "92d0984a",
   "metadata": {},
   "outputs": [],
   "source": []
  }
 ],
 "metadata": {
  "kernelspec": {
   "display_name": "Python 3 (ipykernel)",
   "language": "python",
   "name": "python3"
  },
  "language_info": {
   "codemirror_mode": {
    "name": "ipython",
    "version": 3
   },
   "file_extension": ".py",
   "mimetype": "text/x-python",
   "name": "python",
   "nbconvert_exporter": "python",
   "pygments_lexer": "ipython3",
   "version": "3.10.9"
  }
 },
 "nbformat": 4,
 "nbformat_minor": 5
}
